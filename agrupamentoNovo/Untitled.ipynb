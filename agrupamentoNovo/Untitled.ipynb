{
 "cells": [
  {
   "cell_type": "code",
   "execution_count": 1,
   "id": "3cea4515-b886-46b3-91cd-ee986e8d91df",
   "metadata": {},
   "outputs": [],
   "source": [
    "import pandas as pd\n",
    "from unidecode import unidecode"
   ]
  },
  {
   "cell_type": "code",
   "execution_count": 2,
   "id": "7238e083-e7a5-43f9-940a-1bc85348cd48",
   "metadata": {},
   "outputs": [],
   "source": [
    "excel_file_path_enade = 'dados/Conceito_Enade_2019.xlsx'\n",
    "enade = pd.read_excel(excel_file_path_enade)"
   ]
  },
  {
   "cell_type": "code",
   "execution_count": 5,
   "id": "660f2786-c06e-47e0-8b92-fe57043f46b2",
   "metadata": {},
   "outputs": [
    {
     "data": {
      "text/plain": [
       "array([2019], dtype=int64)"
      ]
     },
     "execution_count": 5,
     "metadata": {},
     "output_type": "execute_result"
    }
   ],
   "source": [
    "enade[\"Ano\"].unique()"
   ]
  },
  {
   "cell_type": "code",
   "execution_count": 6,
   "id": "436a38ee-eb4c-4db6-bcda-f7f0262ca30a",
   "metadata": {},
   "outputs": [],
   "source": [
    "excel_file_path_enade_2021 = 'dados/conceito_enade_2021.xlsx'\n",
    "enade_2021 = pd.read_excel(excel_file_path_enade_2021)"
   ]
  },
  {
   "cell_type": "code",
   "execution_count": 7,
   "id": "a3b52999-b03c-4ce6-8351-1bee93a8b9e7",
   "metadata": {},
   "outputs": [
    {
     "data": {
      "text/plain": [
       "array([2021, nan,\n",
       "       '* Nome e Sigla da IES atualizados na data da divulgação do indicador. As outras informações referentes ao curso e à IES  são divulgados considerando o status do dado no momento da inscrição no Enade.',\n",
       "       '** Para os cursos na modalidade a distância, o nome do município/UF representam a sede do curso.'],\n",
       "      dtype=object)"
      ]
     },
     "execution_count": 7,
     "metadata": {},
     "output_type": "execute_result"
    }
   ],
   "source": [
    "enade_2021[\"Ano\"].unique()"
   ]
  },
  {
   "cell_type": "code",
   "execution_count": 1,
   "id": "607dfdb2-8d70-4898-9c2a-476cf41081f4",
   "metadata": {},
   "outputs": [],
   "source": [
    "com_erro = ['qt_ing', 'qt_conc_diurno', 'qt_ing_branca', 'qt_mat', 'qt_mat_fem', 'qt_mat_masc', 'qt_mat_branca', 'qt_mat_preta', 'qt_mat_parda', 'qt_conc_masc', 'qt_conc_branca', 'qt_conc_parda', 'qt_conc_reserva_vaga', 'qt_conc_rvsocial_rf', 'qt_conc_procescprivada', 'qt_ing_apoio_social', 'qt_conc_ativ_extracurricular']"
   ]
  },
  {
   "cell_type": "code",
   "execution_count": 2,
   "id": "b64ac28e-6fd2-4a70-8772-15c167ccc6f6",
   "metadata": {},
   "outputs": [],
   "source": [
    "total = ['qt_vg_total_diurno','qt_vg_total_noturno','qt_inscrito_total_diurno', 'qt_ing', 'qt_ing_25_29', 'qt_ing_30_34', 'qt_ing_40_49', 'qt_ing_50_59', 'qt_mat_60_mais', 'qt_mat_cornd', 'qt_conc_diurno', 'qt_conc_30_34', 'qt_conc_preta', 'qt_mat_amarela', 'qt_mat_indigena', 'co_regiao',\n",
    " 'tp_categoria_administrativa',\n",
    " 'co_ies',\n",
    " 'qt_inscrito_total_noturno',\n",
    " 'qt_ing_noturno',\n",
    " 'qt_ing_vestibular',\n",
    " 'qt_ing_enem',\n",
    " 'qt_ing_vg_remanesc',\n",
    " 'qt_ing_35_39',\n",
    " 'qt_ing_branca',\n",
    " 'qt_ing_parda',\n",
    " 'qt_mat',\n",
    " 'qt_mat_fem',\n",
    " 'qt_mat_masc',\n",
    " 'qt_mat_50_59',\n",
    " 'qt_mat_branca',\n",
    " 'qt_mat_preta',\n",
    " 'qt_mat_parda',\n",
    " 'qt_conc_masc',\n",
    " 'qt_conc_noturno',\n",
    " 'qt_conc_35_39',\n",
    " 'qt_conc_40_49',\n",
    " 'qt_conc_branca',\n",
    " 'qt_conc_parda',\n",
    " 'qt_conc_cornd',\n",
    " 'qt_aluno_deficiente',\n",
    " 'qt_mat_rvpdef',\n",
    " 'qt_conc_reserva_vaga',\n",
    " 'qt_conc_rvsocial_rf',\n",
    " 'qt_conc_procescprivada',\n",
    " 'qt_ing_apoio_social',\n",
    " 'qt_ing_ativ_extracurricular',\n",
    " 'qt_conc_ativ_extracurricular']"
   ]
  },
  {
   "cell_type": "code",
   "execution_count": 3,
   "id": "422e260c-e08a-431c-aa52-d90db348375e",
   "metadata": {},
   "outputs": [],
   "source": [
    "certos = []"
   ]
  },
  {
   "cell_type": "code",
   "execution_count": 4,
   "id": "e0b9b1c8-dd46-4d02-95d6-4bc395b5e2e6",
   "metadata": {},
   "outputs": [],
   "source": [
    "for i in total:\n",
    "    if i not in com_erro:\n",
    "        certos.append(i)"
   ]
  },
  {
   "cell_type": "code",
   "execution_count": 5,
   "id": "c37d004c-32ca-4943-a7f3-0bfaaa3c2c6c",
   "metadata": {},
   "outputs": [
    {
     "data": {
      "text/plain": [
       "['qt_vg_total_diurno',\n",
       " 'qt_vg_total_noturno',\n",
       " 'qt_inscrito_total_diurno',\n",
       " 'qt_ing_25_29',\n",
       " 'qt_ing_30_34',\n",
       " 'qt_ing_40_49',\n",
       " 'qt_ing_50_59',\n",
       " 'qt_mat_60_mais',\n",
       " 'qt_mat_cornd',\n",
       " 'qt_conc_30_34',\n",
       " 'qt_conc_preta',\n",
       " 'qt_mat_amarela',\n",
       " 'qt_mat_indigena',\n",
       " 'co_regiao',\n",
       " 'tp_categoria_administrativa',\n",
       " 'co_ies',\n",
       " 'qt_inscrito_total_noturno',\n",
       " 'qt_ing_noturno',\n",
       " 'qt_ing_vestibular',\n",
       " 'qt_ing_enem',\n",
       " 'qt_ing_vg_remanesc',\n",
       " 'qt_ing_35_39',\n",
       " 'qt_ing_parda',\n",
       " 'qt_mat_50_59',\n",
       " 'qt_conc_noturno',\n",
       " 'qt_conc_35_39',\n",
       " 'qt_conc_40_49',\n",
       " 'qt_conc_cornd',\n",
       " 'qt_aluno_deficiente',\n",
       " 'qt_mat_rvpdef',\n",
       " 'qt_ing_ativ_extracurricular']"
      ]
     },
     "execution_count": 5,
     "metadata": {},
     "output_type": "execute_result"
    }
   ],
   "source": [
    "certos"
   ]
  },
  {
   "cell_type": "code",
   "execution_count": 7,
   "id": "39275191-ed26-4996-a866-2a86835260b3",
   "metadata": {},
   "outputs": [],
   "source": [
    "original = ['qt_vg_total', 'qt_vg_remanesc', 'qt_inscrito_total',\n",
    "       'qt_insc_vg_remanesc', 'qt_ing_fem', 'qt_ing_masc',\n",
    "       'qt_ing_outra_forma', 'qt_ing_preta', 'qt_ing_amarela', 'qt_ing_cornd',\n",
    "       'qt_conc', 'qt_ing_deficiente', 'qt_ing_reserva_vaga',\n",
    "       'qt_sit_trancada', 'qt_sit_desvinculado', 'qt_ing_procescprivada',\n",
    "       'qt_conc_procescpublica', 'qt_apoio_social', 'qt_conc_apoio_social',\n",
    "       'qt_ativ_extracurricular', 'co_curso', 'no_curso']\n"
   ]
  },
  {
   "cell_type": "code",
   "execution_count": 8,
   "id": "4d6bfa69-069e-4bf4-a3a5-7d0d932eed2a",
   "metadata": {},
   "outputs": [],
   "source": [
    "tem = ['tp_organizacao_academica', 'qt_vg_total', 'qt_vg_remanesc',\n",
    "       'qt_inscrito_total', 'qt_insc_vg_remanesc', 'qt_ing_preta',\n",
    "       'qt_ing_amarela', 'qt_ing_cornd', 'qt_conc', 'qt_conc_50_59',\n",
    "       'qt_conc_amarela', 'qt_mat_nacestrang', 'qt_ing_deficiente',\n",
    "       'qt_ing_reserva_vaga', 'qt_sit_trancada', 'qt_sit_desvinculado',\n",
    "       'qt_apoio_social', 'qt_conc_apoio_social', 'qt_ativ_extracurricular',\n",
    "       'co_curso', 'no_curso']"
   ]
  },
  {
   "cell_type": "code",
   "execution_count": 9,
   "id": "0947c9d8-f1b3-4cdb-8bab-f11f58dd6f8c",
   "metadata": {},
   "outputs": [],
   "source": [
    "res = []"
   ]
  },
  {
   "cell_type": "code",
   "execution_count": 10,
   "id": "4da6f0dd-c420-49ac-af65-ca29cc981b34",
   "metadata": {},
   "outputs": [],
   "source": [
    "for cada in tem:\n",
    "    if cada not in original:\n",
    "        res.append(cada)"
   ]
  },
  {
   "cell_type": "code",
   "execution_count": 11,
   "id": "9f1b2a8f-f1cf-4ef0-b85d-ee41e6887bb3",
   "metadata": {},
   "outputs": [
    {
     "data": {
      "text/plain": [
       "['tp_organizacao_academica',\n",
       " 'qt_conc_50_59',\n",
       " 'qt_conc_amarela',\n",
       " 'qt_mat_nacestrang']"
      ]
     },
     "execution_count": 11,
     "metadata": {},
     "output_type": "execute_result"
    }
   ],
   "source": [
    "res"
   ]
  },
  {
   "cell_type": "code",
   "execution_count": null,
   "id": "14b5e17c-cc7c-426d-80e5-105f42c7e894",
   "metadata": {},
   "outputs": [],
   "source": []
  }
 ],
 "metadata": {
  "kernelspec": {
   "display_name": "Python 3 (ipykernel)",
   "language": "python",
   "name": "python3"
  },
  "language_info": {
   "codemirror_mode": {
    "name": "ipython",
    "version": 3
   },
   "file_extension": ".py",
   "mimetype": "text/x-python",
   "name": "python",
   "nbconvert_exporter": "python",
   "pygments_lexer": "ipython3",
   "version": "3.12.3"
  }
 },
 "nbformat": 4,
 "nbformat_minor": 5
}
