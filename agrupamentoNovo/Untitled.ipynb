{
 "cells": [
  {
   "cell_type": "code",
   "execution_count": 1,
   "id": "3cea4515-b886-46b3-91cd-ee986e8d91df",
   "metadata": {},
   "outputs": [],
   "source": [
    "import pandas as pd\n",
    "from unidecode import unidecode"
   ]
  },
  {
   "cell_type": "code",
   "execution_count": 2,
   "id": "7238e083-e7a5-43f9-940a-1bc85348cd48",
   "metadata": {},
   "outputs": [],
   "source": [
    "excel_file_path_enade = 'dados/Conceito_Enade_2019.xlsx'\n",
    "enade = pd.read_excel(excel_file_path_enade)"
   ]
  },
  {
   "cell_type": "code",
   "execution_count": 5,
   "id": "660f2786-c06e-47e0-8b92-fe57043f46b2",
   "metadata": {},
   "outputs": [
    {
     "data": {
      "text/plain": [
       "array([2019], dtype=int64)"
      ]
     },
     "execution_count": 5,
     "metadata": {},
     "output_type": "execute_result"
    }
   ],
   "source": [
    "enade[\"Ano\"].unique()"
   ]
  },
  {
   "cell_type": "code",
   "execution_count": 6,
   "id": "436a38ee-eb4c-4db6-bcda-f7f0262ca30a",
   "metadata": {},
   "outputs": [],
   "source": [
    "excel_file_path_enade_2021 = 'dados/conceito_enade_2021.xlsx'\n",
    "enade_2021 = pd.read_excel(excel_file_path_enade_2021)"
   ]
  },
  {
   "cell_type": "code",
   "execution_count": 7,
   "id": "a3b52999-b03c-4ce6-8351-1bee93a8b9e7",
   "metadata": {},
   "outputs": [
    {
     "data": {
      "text/plain": [
       "array([2021, nan,\n",
       "       '* Nome e Sigla da IES atualizados na data da divulgação do indicador. As outras informações referentes ao curso e à IES  são divulgados considerando o status do dado no momento da inscrição no Enade.',\n",
       "       '** Para os cursos na modalidade a distância, o nome do município/UF representam a sede do curso.'],\n",
       "      dtype=object)"
      ]
     },
     "execution_count": 7,
     "metadata": {},
     "output_type": "execute_result"
    }
   ],
   "source": [
    "enade_2021[\"Ano\"].unique()"
   ]
  },
  {
   "cell_type": "code",
   "execution_count": null,
   "id": "607dfdb2-8d70-4898-9c2a-476cf41081f4",
   "metadata": {},
   "outputs": [],
   "source": []
  }
 ],
 "metadata": {
  "kernelspec": {
   "display_name": "Python 3 (ipykernel)",
   "language": "python",
   "name": "python3"
  },
  "language_info": {
   "codemirror_mode": {
    "name": "ipython",
    "version": 3
   },
   "file_extension": ".py",
   "mimetype": "text/x-python",
   "name": "python",
   "nbconvert_exporter": "python",
   "pygments_lexer": "ipython3",
   "version": "3.12.3"
  }
 },
 "nbformat": 4,
 "nbformat_minor": 5
}
