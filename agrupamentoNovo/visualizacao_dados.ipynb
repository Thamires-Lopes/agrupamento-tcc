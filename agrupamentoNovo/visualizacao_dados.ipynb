{
 "cells": [
  {
   "cell_type": "code",
   "execution_count": 1,
   "id": "c30fe826-3e0e-4c80-a18b-7ba106a7f29f",
   "metadata": {},
   "outputs": [
    {
     "name": "stderr",
     "output_type": "stream",
     "text": [
      "C:\\Users\\thami\\Documents\\GitHub\\TCC agrupamento\\agrupamento-tcc\\venv\\Lib\\site-packages\\tqdm\\auto.py:21: TqdmWarning: IProgress not found. Please update jupyter and ipywidgets. See https://ipywidgets.readthedocs.io/en/stable/user_install.html\n",
      "  from .autonotebook import tqdm as notebook_tqdm\n"
     ]
    }
   ],
   "source": [
    "import pandas as pd\n",
    "import numpy as np\n",
    "from unidecode import unidecode\n",
    "\n",
    "from ydata_profiling import ProfileReport"
   ]
  },
  {
   "cell_type": "code",
   "execution_count": 2,
   "id": "2655221a-ad09-427b-9aa7-cf4ee7433659",
   "metadata": {},
   "outputs": [],
   "source": [
    "excel_file_path_enade = 'dados/conceito_enade_2021.xlsx'\n",
    "enade = pd.read_excel(excel_file_path_enade)"
   ]
  },
  {
   "cell_type": "code",
   "execution_count": 3,
   "id": "528763b0-7c4b-4b9d-97f6-fba078210992",
   "metadata": {},
   "outputs": [],
   "source": [
    "excel_file_path_cpc = 'dados/resultados_cpc_2021.xlsx'\n",
    "cpc = pd.read_excel(excel_file_path_cpc)"
   ]
  },
  {
   "cell_type": "code",
   "execution_count": 4,
   "id": "bb4f9709-a244-42ae-8906-58c484e0571c",
   "metadata": {},
   "outputs": [
    {
     "name": "stderr",
     "output_type": "stream",
     "text": [
      "Summarize dataset: 100%|████████████████████████████████████████████████████| 29/29 [00:00<00:00, 72.24it/s, Completed]\n",
      "Generate report structure: 100%|█████████████████████████████████████████████████████████| 1/1 [00:05<00:00,  5.78s/it]\n",
      "Render HTML: 100%|███████████████████████████████████████████████████████████████████████| 1/1 [00:00<00:00,  2.32it/s]\n",
      "Export report to file: 100%|████████████████████████████████████████████████████████████| 1/1 [00:00<00:00, 145.63it/s]\n"
     ]
    }
   ],
   "source": [
    "profile = ProfileReport(enade, title='Relatório de Dados Enade', minimal=True)\n",
    "profile.to_file('enade.html')"
   ]
  },
  {
   "cell_type": "code",
   "execution_count": 5,
   "id": "6f141e36-a0c7-47fb-87d8-20cfcb8ff9cb",
   "metadata": {},
   "outputs": [
    {
     "name": "stderr",
     "output_type": "stream",
     "text": [
      "Summarize dataset: 100%|███████████████████████████████████████████████████| 46/46 [00:00<00:00, 104.05it/s, Completed]\n",
      "Generate report structure: 100%|█████████████████████████████████████████████████████████| 1/1 [00:08<00:00,  8.75s/it]\n",
      "Render HTML: 100%|███████████████████████████████████████████████████████████████████████| 1/1 [00:00<00:00,  1.79it/s]\n",
      "Export report to file: 100%|████████████████████████████████████████████████████████████| 1/1 [00:00<00:00, 123.76it/s]\n"
     ]
    }
   ],
   "source": [
    "profile2 = ProfileReport(cpc, title='Relatório de Dados CPC', minimal=True)\n",
    "profile2.to_file('cpc.html')"
   ]
  },
  {
   "cell_type": "code",
   "execution_count": 6,
   "id": "3135fa80-6cbd-4f45-9583-5a2b0fb58b27",
   "metadata": {},
   "outputs": [
    {
     "name": "stderr",
     "output_type": "stream",
     "text": [
      "C:\\Users\\thami\\AppData\\Local\\Temp\\ipykernel_332\\200761947.py:1: DtypeWarning: Columns (1,3,4,6) have mixed types. Specify dtype option on import or set low_memory=False.\n",
      "  df_2021 = pd.read_csv('dados/microdados_2021/dados/MICRODADOS_CADASTRO_CURSOS_2021.CSV',encoding='ISO-8859-1',sep=';')\n"
     ]
    }
   ],
   "source": [
    "df_2021 = pd.read_csv('dados/microdados_2021/dados/MICRODADOS_CADASTRO_CURSOS_2021.CSV',encoding='ISO-8859-1',sep=';')"
   ]
  },
  {
   "cell_type": "code",
   "execution_count": 7,
   "id": "71559e83-57e1-406e-8ddc-906cb36e363e",
   "metadata": {},
   "outputs": [
    {
     "data": {
      "text/plain": [
       "(444786, 200)"
      ]
     },
     "execution_count": 7,
     "metadata": {},
     "output_type": "execute_result"
    }
   ],
   "source": [
    "df_2021.shape"
   ]
  },
  {
   "cell_type": "code",
   "execution_count": 8,
   "id": "cb3ea8bc-1390-4f80-b4bf-5a0e0670a9ef",
   "metadata": {},
   "outputs": [],
   "source": [
    "df_limpo = df_2021.dropna()"
   ]
  },
  {
   "cell_type": "code",
   "execution_count": 9,
   "id": "4839b70b-1e0f-4974-8597-3f33f46374ed",
   "metadata": {},
   "outputs": [
    {
     "data": {
      "text/plain": [
       "(436533, 200)"
      ]
     },
     "execution_count": 9,
     "metadata": {},
     "output_type": "execute_result"
    }
   ],
   "source": [
    "df_limpo.shape"
   ]
  },
  {
   "cell_type": "code",
   "execution_count": 18,
   "id": "f18e1219-be00-4bce-a3d2-d38e9a16a2e0",
   "metadata": {},
   "outputs": [
    {
     "data": {
      "text/plain": [
       "8253"
      ]
     },
     "execution_count": 18,
     "metadata": {},
     "output_type": "execute_result"
    }
   ],
   "source": [
    "444786 - 436533"
   ]
  },
  {
   "cell_type": "code",
   "execution_count": 19,
   "id": "26136004-2fc7-4566-b74d-7f6b4896545c",
   "metadata": {},
   "outputs": [
    {
     "data": {
      "text/plain": [
       "1.8554990489808583"
      ]
     },
     "execution_count": 19,
     "metadata": {},
     "output_type": "execute_result"
    }
   ],
   "source": [
    "(8253*100)/444786"
   ]
  },
  {
   "cell_type": "code",
   "execution_count": 24,
   "id": "95700d2b-7fdb-4ead-a77d-f7edd458fbf8",
   "metadata": {},
   "outputs": [
    {
     "data": {
      "text/plain": [
       "(444786, 200)"
      ]
     },
     "execution_count": 24,
     "metadata": {},
     "output_type": "execute_result"
    }
   ],
   "source": [
    "df_2021.shape"
   ]
  },
  {
   "cell_type": "code",
   "execution_count": 40,
   "id": "4ebae367-7b51-4427-8213-c36b5759d798",
   "metadata": {},
   "outputs": [
    {
     "name": "stdout",
     "output_type": "stream",
     "text": [
      "Elementos em lista1 que não estão em lista2: ['qt_ing_0_17', 'qt_mat_30_34']\n"
     ]
    }
   ],
   "source": [
    "lista1 = ['qt_vg_total_diurno','qt_vg_total_noturno','qt_inscrito_total_diurno', 'qt_ing', 'qt_ing_0_17', 'qt_ing_25_29', 'qt_ing_30_34', 'qt_ing_40_49', 'qt_ing_50_59', 'qt_mat_30_34', 'qt_mat_60_mais', 'qt_mat_cornd', 'qt_conc_diurno', 'qt_conc_30_34', 'qt_conc_preta', 'qt_mat_amarela', 'qt_mat_indigena']\n",
    "lista2 = ['no_cine_area_geral_artes_e_humanidades',\n",
    "       'no_cine_area_geral_ciencias_naturais,_matematica_e_estatistica',\n",
    "       'no_cine_area_geral_ciencias_sociais,_comunicacao_e_informacao',\n",
    "       'no_cine_area_geral_computacao_e_tecnologias_da_informacao_e_comunicacao_(tic)',\n",
    "       'no_cine_area_geral_educacao', 'no_cine_area_geral_saude_e_bem-estar',\n",
    "       'tp_grau_academico_bacharelado', 'tp_grau_academico_licenciatura',\n",
    "       'tp_grau_academico_tecnologico', 'enade_faixa_1.5', 'enade_faixa_2.0',\n",
    "       'enade_faixa_3.0', 'enade_faixa_4.0', 'enade_faixa_5.0',\n",
    "       'cpc_faixa_1.5', 'cpc_faixa_2.0', 'cpc_faixa_3.0', 'cpc_faixa_4.0',\n",
    "       'cpc_faixa_5.0', 'co_regiao', 'tp_categoria_administrativa', 'co_ies',\n",
    "       'qt_vg_total', 'qt_vg_total_diurno', 'qt_vg_total_noturno',\n",
    "       'qt_vg_remanesc', 'qt_inscrito_total', 'qt_inscrito_total_diurno',\n",
    "       'qt_inscrito_total_noturno', 'qt_insc_vg_remanesc', 'qt_ing',\n",
    "       'qt_ing_noturno', 'qt_ing_vestibular', 'qt_ing_enem',\n",
    "       'qt_ing_vg_remanesc', 'qt_ing_25_29', 'qt_ing_30_34', 'qt_ing_35_39',\n",
    "       'qt_ing_40_49', 'qt_ing_50_59', 'qt_ing_branca', 'qt_ing_preta',\n",
    "       'qt_ing_parda', 'qt_ing_amarela', 'qt_ing_cornd', 'qt_mat',\n",
    "       'qt_mat_fem', 'qt_mat_masc', 'qt_mat_50_59', 'qt_mat_60_mais',\n",
    "       'qt_mat_branca', 'qt_mat_preta', 'qt_mat_parda', 'qt_mat_amarela',\n",
    "       'qt_mat_indigena', 'qt_mat_cornd', 'qt_conc', 'qt_conc_masc',\n",
    "       'qt_conc_diurno', 'qt_conc_noturno', 'qt_conc_30_34', 'qt_conc_35_39',\n",
    "       'qt_conc_40_49', 'qt_conc_branca', 'qt_conc_preta', 'qt_conc_parda',\n",
    "       'qt_conc_cornd', 'qt_aluno_deficiente', 'qt_ing_deficiente',\n",
    "       'qt_ing_reserva_vaga', 'qt_mat_rvpdef', 'qt_conc_reserva_vaga',\n",
    "       'qt_conc_rvsocial_rf', 'qt_sit_trancada', 'qt_sit_desvinculado',\n",
    "       'qt_ing_procescprivada', 'qt_conc_procescprivada', 'qt_apoio_social',\n",
    "       'qt_ing_apoio_social', 'qt_conc_apoio_social',\n",
    "       'qt_ativ_extracurricular', 'qt_ing_ativ_extracurricular',\n",
    "       'qt_conc_ativ_extracurricular', 'co_curso', 'no_curso']\n",
    "\n",
    "# Usar list comprehension para encontrar a diferença\n",
    "diferenca = [item for item in lista1 if item not in lista2]\n",
    "\n",
    "print(\"Elementos em lista1 que não estão em lista2:\", diferenca)"
   ]
  },
  {
   "cell_type": "code",
   "execution_count": 41,
   "id": "1eb04f5d-e82e-44fb-acdd-953c60e82d26",
   "metadata": {},
   "outputs": [
    {
     "name": "stdout",
     "output_type": "stream",
     "text": [
      "no_cine_area_geral_agricultura,_silvicultura,_pesca_e_veterinaria\n",
      "no_cine_area_geral_ciencias_naturais,_matematica_e_estatistica\n",
      "no_cine_area_geral_ciencias_sociais,_comunicacao_e_informacao\n",
      "no_cine_area_geral_computacao_e_tecnologias_da_informacao_e_comunicacao_(tic)\n",
      "no_cine_area_geral_educacao\n",
      "no_cine_area_geral_engenharia,_producao_e_construcao\n",
      "no_cine_area_geral_negocios,_administracao_e_direito\n",
      "no_cine_area_geral_servicos\n",
      "tp_grau_academico_bacharelado\n",
      "tp_grau_academico_licenciatura\n",
      "tp_grau_academico_tecnologico\n",
      "enade_faixa_2\n",
      "enade_faixa_3\n",
      "enade_faixa_4\n",
      "enade_faixa_5\n",
      "enade_faixa_SC\n",
      "cpc_faixa_3\n",
      "cpc_faixa_4\n",
      "cpc_faixa_5\n",
      "cpc_faixa_SC\n",
      "qt_vg_total\n",
      "qt_vg_remanesc\n",
      "qt_inscrito_total\n",
      "qt_insc_vg_remanesc\n",
      "qt_ing_fem\n",
      "qt_ing_masc\n",
      "qt_ing_outra_forma\n",
      "qt_ing_preta\n",
      "qt_ing_amarela\n",
      "qt_ing_cornd\n",
      "qt_conc\n",
      "qt_ing_deficiente\n",
      "qt_ing_reserva_vaga\n",
      "qt_sit_trancada\n",
      "qt_sit_desvinculado\n",
      "qt_ing_procescprivada\n",
      "qt_conc_procescpublica\n",
      "qt_apoio_social\n",
      "qt_conc_apoio_social\n",
      "qt_ativ_extracurricular\n",
      "co_curso\n",
      "no_curso\n"
     ]
    }
   ],
   "source": [
    "tem_que_ter = ['no_cine_area_geral_agricultura,_silvicultura,_pesca_e_veterinaria',\n",
    "       'no_cine_area_geral_ciencias_naturais,_matematica_e_estatistica',\n",
    "       'no_cine_area_geral_ciencias_sociais,_comunicacao_e_informacao',\n",
    "       'no_cine_area_geral_computacao_e_tecnologias_da_informacao_e_comunicacao_(tic)',\n",
    "       'no_cine_area_geral_educacao',\n",
    "       'no_cine_area_geral_engenharia,_producao_e_construcao',\n",
    "       'no_cine_area_geral_negocios,_administracao_e_direito',\n",
    "       'no_cine_area_geral_servicos', 'tp_grau_academico_bacharelado',\n",
    "       'tp_grau_academico_licenciatura', 'tp_grau_academico_tecnologico',\n",
    "       'enade_faixa_2', 'enade_faixa_3', 'enade_faixa_4', 'enade_faixa_5',\n",
    "       'enade_faixa_SC', 'cpc_faixa_3', 'cpc_faixa_4', 'cpc_faixa_5',\n",
    "       'cpc_faixa_SC', 'qt_vg_total', 'qt_vg_remanesc', 'qt_inscrito_total',\n",
    "       'qt_insc_vg_remanesc', 'qt_ing_fem', 'qt_ing_masc',\n",
    "       'qt_ing_outra_forma', 'qt_ing_preta', 'qt_ing_amarela', 'qt_ing_cornd',\n",
    "       'qt_conc', 'qt_ing_deficiente', 'qt_ing_reserva_vaga',\n",
    "       'qt_sit_trancada', 'qt_sit_desvinculado', 'qt_ing_procescprivada',\n",
    "       'qt_conc_procescpublica', 'qt_apoio_social', 'qt_conc_apoio_social',\n",
    "       'qt_ativ_extracurricular', 'co_curso', 'no_curso']\n",
    "\n",
    "for i in tem_que_ter:\n",
    "    print(i)"
   ]
  },
  {
   "cell_type": "code",
   "execution_count": 42,
   "id": "7710010e-76ad-41b2-8434-abaf81e74fc7",
   "metadata": {},
   "outputs": [
    {
     "name": "stdout",
     "output_type": "stream",
     "text": [
      "no_cine_area_geral_artes_e_humanidades\n",
      "no_cine_area_geral_ciencias_naturais,_matematica_e_estatistica\n",
      "no_cine_area_geral_ciencias_sociais,_comunicacao_e_informacao\n",
      "no_cine_area_geral_computacao_e_tecnologias_da_informacao_e_comunicacao_(tic)\n",
      "no_cine_area_geral_educacao\n",
      "no_cine_area_geral_saude_e_bem-estar\n",
      "tp_grau_academico_bacharelado\n",
      "tp_grau_academico_licenciatura\n",
      "tp_grau_academico_tecnologico\n",
      "enade_faixa_1.5\n",
      "enade_faixa_2.0\n",
      "enade_faixa_3.0\n",
      "enade_faixa_4.0\n",
      "enade_faixa_5.0\n",
      "cpc_faixa_1.5\n",
      "cpc_faixa_2.0\n",
      "cpc_faixa_3.0\n",
      "cpc_faixa_4.0\n",
      "cpc_faixa_5.0\n",
      "co_regiao\n",
      "tp_categoria_administrativa\n",
      "co_ies\n",
      "qt_vg_total\n",
      "qt_vg_remanesc\n",
      "qt_inscrito_total\n",
      "qt_inscrito_total_noturno\n",
      "qt_insc_vg_remanesc\n",
      "qt_ing_noturno\n",
      "qt_ing_vestibular\n",
      "qt_ing_enem\n",
      "qt_ing_vg_remanesc\n",
      "qt_ing_35_39\n",
      "qt_ing_branca\n",
      "qt_ing_preta\n",
      "qt_ing_parda\n",
      "qt_ing_amarela\n",
      "qt_ing_cornd\n",
      "qt_mat\n",
      "qt_mat_fem\n",
      "qt_mat_masc\n",
      "qt_mat_50_59\n",
      "qt_mat_branca\n",
      "qt_mat_preta\n",
      "qt_mat_parda\n",
      "qt_conc\n",
      "qt_conc_masc\n",
      "qt_conc_noturno\n",
      "qt_conc_35_39\n",
      "qt_conc_40_49\n",
      "qt_conc_branca\n",
      "qt_conc_parda\n",
      "qt_conc_cornd\n",
      "qt_aluno_deficiente\n",
      "qt_ing_deficiente\n",
      "qt_ing_reserva_vaga\n",
      "qt_mat_rvpdef\n",
      "qt_conc_reserva_vaga\n",
      "qt_conc_rvsocial_rf\n",
      "qt_sit_trancada\n",
      "qt_sit_desvinculado\n",
      "qt_ing_procescprivada\n",
      "qt_conc_procescprivada\n",
      "qt_apoio_social\n",
      "qt_ing_apoio_social\n",
      "qt_conc_apoio_social\n",
      "qt_ativ_extracurricular\n",
      "qt_ing_ativ_extracurricular\n",
      "qt_conc_ativ_extracurricular\n",
      "co_curso\n",
      "no_curso\n"
     ]
    }
   ],
   "source": [
    "a = ['no_cine_area_geral_artes_e_humanidades',\n",
    "       'no_cine_area_geral_ciencias_naturais,_matematica_e_estatistica',\n",
    "       'no_cine_area_geral_ciencias_sociais,_comunicacao_e_informacao',\n",
    "       'no_cine_area_geral_computacao_e_tecnologias_da_informacao_e_comunicacao_(tic)',\n",
    "       'no_cine_area_geral_educacao', 'no_cine_area_geral_saude_e_bem-estar',\n",
    "       'tp_grau_academico_bacharelado', 'tp_grau_academico_licenciatura',\n",
    "       'tp_grau_academico_tecnologico', 'enade_faixa_1.5', 'enade_faixa_2.0',\n",
    "       'enade_faixa_3.0', 'enade_faixa_4.0', 'enade_faixa_5.0',\n",
    "       'cpc_faixa_1.5', 'cpc_faixa_2.0', 'cpc_faixa_3.0', 'cpc_faixa_4.0',\n",
    "       'cpc_faixa_5.0', 'co_regiao', 'tp_categoria_administrativa', 'co_ies',\n",
    "       'qt_vg_total', 'qt_vg_remanesc', 'qt_inscrito_total',\n",
    "       'qt_inscrito_total_noturno', 'qt_insc_vg_remanesc', 'qt_ing_noturno',\n",
    "       'qt_ing_vestibular', 'qt_ing_enem', 'qt_ing_vg_remanesc',\n",
    "       'qt_ing_35_39', 'qt_ing_branca', 'qt_ing_preta', 'qt_ing_parda',\n",
    "       'qt_ing_amarela', 'qt_ing_cornd', 'qt_mat', 'qt_mat_fem', 'qt_mat_masc',\n",
    "       'qt_mat_50_59', 'qt_mat_branca', 'qt_mat_preta', 'qt_mat_parda',\n",
    "       'qt_conc', 'qt_conc_masc', 'qt_conc_noturno', 'qt_conc_35_39',\n",
    "       'qt_conc_40_49', 'qt_conc_branca', 'qt_conc_parda', 'qt_conc_cornd',\n",
    "       'qt_aluno_deficiente', 'qt_ing_deficiente', 'qt_ing_reserva_vaga',\n",
    "       'qt_mat_rvpdef', 'qt_conc_reserva_vaga', 'qt_conc_rvsocial_rf',\n",
    "       'qt_sit_trancada', 'qt_sit_desvinculado', 'qt_ing_procescprivada',\n",
    "       'qt_conc_procescprivada', 'qt_apoio_social', 'qt_ing_apoio_social',\n",
    "       'qt_conc_apoio_social', 'qt_ativ_extracurricular',\n",
    "       'qt_ing_ativ_extracurricular', 'qt_conc_ativ_extracurricular',\n",
    "       'co_curso', 'no_curso']\n",
    "\n",
    "for i in a:\n",
    "    print(i)"
   ]
  },
  {
   "cell_type": "code",
   "execution_count": 43,
   "id": "79851823-9a5f-4277-9a4a-b53c4de84b9c",
   "metadata": {},
   "outputs": [],
   "source": [
    "c = ['co_regiao', 'tp_categoria_administrativa', 'co_ies',\n",
    "       'qt_vg_total', 'qt_vg_remanesc', 'qt_inscrito_total',\n",
    "       'qt_inscrito_total_noturno', 'qt_insc_vg_remanesc', 'qt_ing_noturno',\n",
    "       'qt_ing_vestibular', 'qt_ing_enem', 'qt_ing_vg_remanesc',\n",
    "       'qt_ing_35_39', 'qt_ing_branca', 'qt_ing_preta', 'qt_ing_parda',\n",
    "       'qt_ing_amarela', 'qt_ing_cornd', 'qt_mat', 'qt_mat_fem', 'qt_mat_masc',\n",
    "       'qt_mat_50_59', 'qt_mat_branca', 'qt_mat_preta', 'qt_mat_parda',\n",
    "       'qt_conc', 'qt_conc_masc', 'qt_conc_noturno', 'qt_conc_35_39',\n",
    "       'qt_conc_40_49', 'qt_conc_branca', 'qt_conc_parda', 'qt_conc_cornd',\n",
    "       'qt_aluno_deficiente', 'qt_ing_deficiente', 'qt_ing_reserva_vaga',\n",
    "       'qt_mat_rvpdef', 'qt_conc_reserva_vaga', 'qt_conc_rvsocial_rf',\n",
    "       'qt_sit_trancada', 'qt_sit_desvinculado', 'qt_ing_procescprivada',\n",
    "       'qt_conc_procescprivada', 'qt_apoio_social', 'qt_ing_apoio_social',\n",
    "       'qt_conc_apoio_social', 'qt_ativ_extracurricular',\n",
    "       'qt_ing_ativ_extracurricular', 'qt_conc_ativ_extracurricular',\n",
    "       'co_curso', 'no_curso']"
   ]
  },
  {
   "cell_type": "code",
   "execution_count": 44,
   "id": "1f541ded-d3c5-4983-b669-12dcdc08a89e",
   "metadata": {},
   "outputs": [],
   "source": [
    "# Usar list comprehension para encontrar a diferença\n",
    "result = [item for item in c if item not in tem_que_ter]"
   ]
  },
  {
   "cell_type": "code",
   "execution_count": 45,
   "id": "68994377-ef36-4183-8b99-eb33257d3292",
   "metadata": {},
   "outputs": [
    {
     "name": "stdout",
     "output_type": "stream",
     "text": [
      "co_regiao\n",
      "tp_categoria_administrativa\n",
      "co_ies\n",
      "qt_inscrito_total_noturno\n",
      "qt_ing_noturno\n",
      "qt_ing_vestibular\n",
      "qt_ing_enem\n",
      "qt_ing_vg_remanesc\n",
      "qt_ing_35_39\n",
      "qt_ing_branca\n",
      "qt_ing_parda\n",
      "qt_mat\n",
      "qt_mat_fem\n",
      "qt_mat_masc\n",
      "qt_mat_50_59\n",
      "qt_mat_branca\n",
      "qt_mat_preta\n",
      "qt_mat_parda\n",
      "qt_conc_masc\n",
      "qt_conc_noturno\n",
      "qt_conc_35_39\n",
      "qt_conc_40_49\n",
      "qt_conc_branca\n",
      "qt_conc_parda\n",
      "qt_conc_cornd\n",
      "qt_aluno_deficiente\n",
      "qt_mat_rvpdef\n",
      "qt_conc_reserva_vaga\n",
      "qt_conc_rvsocial_rf\n",
      "qt_conc_procescprivada\n",
      "qt_ing_apoio_social\n",
      "qt_ing_ativ_extracurricular\n",
      "qt_conc_ativ_extracurricular\n"
     ]
    }
   ],
   "source": [
    "for k in result:\n",
    "    print(k)"
   ]
  },
  {
   "cell_type": "code",
   "execution_count": 46,
   "id": "6d87e975-5f25-4119-acb0-25af1b6ded65",
   "metadata": {},
   "outputs": [
    {
     "data": {
      "text/plain": [
       "['co_regiao',\n",
       " 'tp_categoria_administrativa',\n",
       " 'co_ies',\n",
       " 'qt_inscrito_total_noturno',\n",
       " 'qt_ing_noturno',\n",
       " 'qt_ing_vestibular',\n",
       " 'qt_ing_enem',\n",
       " 'qt_ing_vg_remanesc',\n",
       " 'qt_ing_35_39',\n",
       " 'qt_ing_branca',\n",
       " 'qt_ing_parda',\n",
       " 'qt_mat',\n",
       " 'qt_mat_fem',\n",
       " 'qt_mat_masc',\n",
       " 'qt_mat_50_59',\n",
       " 'qt_mat_branca',\n",
       " 'qt_mat_preta',\n",
       " 'qt_mat_parda',\n",
       " 'qt_conc_masc',\n",
       " 'qt_conc_noturno',\n",
       " 'qt_conc_35_39',\n",
       " 'qt_conc_40_49',\n",
       " 'qt_conc_branca',\n",
       " 'qt_conc_parda',\n",
       " 'qt_conc_cornd',\n",
       " 'qt_aluno_deficiente',\n",
       " 'qt_mat_rvpdef',\n",
       " 'qt_conc_reserva_vaga',\n",
       " 'qt_conc_rvsocial_rf',\n",
       " 'qt_conc_procescprivada',\n",
       " 'qt_ing_apoio_social',\n",
       " 'qt_ing_ativ_extracurricular',\n",
       " 'qt_conc_ativ_extracurricular']"
      ]
     },
     "execution_count": 46,
     "metadata": {},
     "output_type": "execute_result"
    }
   ],
   "source": [
    "result"
   ]
  },
  {
   "cell_type": "code",
   "execution_count": null,
   "id": "8676c24d-0e0e-492b-8109-c53ecaaa8ee4",
   "metadata": {},
   "outputs": [],
   "source": []
  }
 ],
 "metadata": {
  "kernelspec": {
   "display_name": "Python 3 (ipykernel)",
   "language": "python",
   "name": "python3"
  },
  "language_info": {
   "codemirror_mode": {
    "name": "ipython",
    "version": 3
   },
   "file_extension": ".py",
   "mimetype": "text/x-python",
   "name": "python",
   "nbconvert_exporter": "python",
   "pygments_lexer": "ipython3",
   "version": "3.12.3"
  }
 },
 "nbformat": 4,
 "nbformat_minor": 5
}
