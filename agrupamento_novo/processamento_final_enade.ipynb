{
 "cells": [
  {
   "cell_type": "code",
   "execution_count": 1,
   "id": "0d17b1a1-9cf4-4f2e-aca9-11037ec33bc1",
   "metadata": {},
   "outputs": [],
   "source": [
    "import pandas as pd\n",
    "from unidecode import unidecode"
   ]
  },
  {
   "cell_type": "code",
   "execution_count": 2,
   "id": "c5d360ff-f6d9-40bb-a473-053b5bf641fd",
   "metadata": {},
   "outputs": [],
   "source": [
    "enade_2021 = pd.read_csv(\"dados_processados/enade_2021.csv\")\n",
    "enade_2022 = pd.read_csv(\"dados_processados/enade_2022.csv\")\n",
    "enade_2019 = pd.read_csv(\"dados_processados/enade_2019.csv\")"
   ]
  },
  {
   "cell_type": "code",
   "execution_count": 3,
   "id": "ee946d5e-352a-4640-9045-f934592befaf",
   "metadata": {},
   "outputs": [],
   "source": [
    "# Concatenando os dataframes\n",
    "enade_final = pd.concat([enade_2022, enade_2021, enade_2019])"
   ]
  },
  {
   "cell_type": "code",
   "execution_count": 4,
   "id": "29572c23-bf22-4107-88dd-33e2a0db5d81",
   "metadata": {},
   "outputs": [
    {
     "data": {
      "text/plain": [
       "(6595, 2)"
      ]
     },
     "execution_count": 4,
     "metadata": {},
     "output_type": "execute_result"
    }
   ],
   "source": [
    "enade_final.shape"
   ]
  },
  {
   "cell_type": "code",
   "execution_count": 5,
   "id": "34ae3531-7786-4ce4-924a-71a093521bd5",
   "metadata": {},
   "outputs": [],
   "source": [
    "# Removendo duplicatas, mantendo a primeira ocorrência (2022, depois 2021, e por último 2019)\n",
    "enade_final = enade_final.drop_duplicates(subset='co_curso', keep='first').reset_index(drop=True)"
   ]
  },
  {
   "cell_type": "code",
   "execution_count": 6,
   "id": "516a629a-9972-478c-ab61-00497cb73bd7",
   "metadata": {},
   "outputs": [
    {
     "data": {
      "text/plain": [
       "(6530, 2)"
      ]
     },
     "execution_count": 6,
     "metadata": {},
     "output_type": "execute_result"
    }
   ],
   "source": [
    "enade_final.shape"
   ]
  },
  {
   "cell_type": "code",
   "execution_count": 7,
   "id": "0e75bc77-37fa-4e25-af17-2a950f895dd5",
   "metadata": {},
   "outputs": [
    {
     "data": {
      "text/html": [
       "<div>\n",
       "<style scoped>\n",
       "    .dataframe tbody tr th:only-of-type {\n",
       "        vertical-align: middle;\n",
       "    }\n",
       "\n",
       "    .dataframe tbody tr th {\n",
       "        vertical-align: top;\n",
       "    }\n",
       "\n",
       "    .dataframe thead th {\n",
       "        text-align: right;\n",
       "    }\n",
       "</style>\n",
       "<table border=\"1\" class=\"dataframe\">\n",
       "  <thead>\n",
       "    <tr style=\"text-align: right;\">\n",
       "      <th></th>\n",
       "      <th>co_curso</th>\n",
       "      <th>enade_faixa</th>\n",
       "    </tr>\n",
       "  </thead>\n",
       "  <tbody>\n",
       "    <tr>\n",
       "      <th>0</th>\n",
       "      <td>1</td>\n",
       "      <td>5</td>\n",
       "    </tr>\n",
       "    <tr>\n",
       "      <th>1</th>\n",
       "      <td>2</td>\n",
       "      <td>2</td>\n",
       "    </tr>\n",
       "    <tr>\n",
       "      <th>2</th>\n",
       "      <td>7</td>\n",
       "      <td>4</td>\n",
       "    </tr>\n",
       "    <tr>\n",
       "      <th>3</th>\n",
       "      <td>8</td>\n",
       "      <td>4</td>\n",
       "    </tr>\n",
       "    <tr>\n",
       "      <th>4</th>\n",
       "      <td>13</td>\n",
       "      <td>4</td>\n",
       "    </tr>\n",
       "    <tr>\n",
       "      <th>...</th>\n",
       "      <td>...</td>\n",
       "      <td>...</td>\n",
       "    </tr>\n",
       "    <tr>\n",
       "      <th>6525</th>\n",
       "      <td>1146839</td>\n",
       "      <td>3</td>\n",
       "    </tr>\n",
       "    <tr>\n",
       "      <th>6526</th>\n",
       "      <td>1186268</td>\n",
       "      <td>3</td>\n",
       "    </tr>\n",
       "    <tr>\n",
       "      <th>6527</th>\n",
       "      <td>1208279</td>\n",
       "      <td>2</td>\n",
       "    </tr>\n",
       "    <tr>\n",
       "      <th>6528</th>\n",
       "      <td>1428361</td>\n",
       "      <td>5</td>\n",
       "    </tr>\n",
       "    <tr>\n",
       "      <th>6529</th>\n",
       "      <td>123116</td>\n",
       "      <td>5</td>\n",
       "    </tr>\n",
       "  </tbody>\n",
       "</table>\n",
       "<p>6530 rows × 2 columns</p>\n",
       "</div>"
      ],
      "text/plain": [
       "      co_curso  enade_faixa\n",
       "0            1            5\n",
       "1            2            2\n",
       "2            7            4\n",
       "3            8            4\n",
       "4           13            4\n",
       "...        ...          ...\n",
       "6525   1146839            3\n",
       "6526   1186268            3\n",
       "6527   1208279            2\n",
       "6528   1428361            5\n",
       "6529    123116            5\n",
       "\n",
       "[6530 rows x 2 columns]"
      ]
     },
     "execution_count": 7,
     "metadata": {},
     "output_type": "execute_result"
    }
   ],
   "source": [
    "enade_final"
   ]
  },
  {
   "cell_type": "code",
   "execution_count": 8,
   "id": "e82547ad-bbce-4050-971a-7e642c98ad56",
   "metadata": {},
   "outputs": [],
   "source": [
    "enade_final.to_csv('dados_processados/enade_final.csv', index=False)"
   ]
  }
 ],
 "metadata": {
  "kernelspec": {
   "display_name": "Python 3 (ipykernel)",
   "language": "python",
   "name": "python3"
  },
  "language_info": {
   "codemirror_mode": {
    "name": "ipython",
    "version": 3
   },
   "file_extension": ".py",
   "mimetype": "text/x-python",
   "name": "python",
   "nbconvert_exporter": "python",
   "pygments_lexer": "ipython3",
   "version": "3.12.3"
  }
 },
 "nbformat": 4,
 "nbformat_minor": 5
}
