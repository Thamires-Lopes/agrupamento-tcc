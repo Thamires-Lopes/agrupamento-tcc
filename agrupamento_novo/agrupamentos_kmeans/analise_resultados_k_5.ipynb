{
 "cells": [
  {
   "cell_type": "code",
   "execution_count": 1,
   "id": "761e3830-3da9-477d-b2f9-64feb1ce3814",
   "metadata": {},
   "outputs": [],
   "source": [
    "import pandas as pd"
   ]
  },
  {
   "cell_type": "code",
   "execution_count": 2,
   "id": "e432d542-b1a7-422d-b5b8-eed4279da319",
   "metadata": {},
   "outputs": [],
   "source": [
    "df1 = pd.read_csv('dados_originais/cluster_original_k_5.csv')\n",
    "df2 = pd.read_csv('dados_agrupamentos/cursos_rural_labels_k_5.csv')"
   ]
  },
  {
   "cell_type": "code",
   "execution_count": 3,
   "id": "99ede409-cc2d-419a-9f87-4180edecfda4",
   "metadata": {},
   "outputs": [],
   "source": [
    "# Passo 2: Criar dicionários a partir das colunas 'label' e 'no_curso'\n",
    "# O dicionário terá o 'label' como chave e uma lista de 'no_curso' como valor\n",
    "\n",
    "dict1 = df1.groupby('label')['no_curso'].apply(list).to_dict()\n",
    "dict2 = df2.groupby('label')['no_curso'].apply(list).to_dict()"
   ]
  },
  {
   "cell_type": "code",
   "execution_count": 4,
   "id": "0c71066c-86ea-45a9-a71f-b411eb206587",
   "metadata": {},
   "outputs": [
    {
     "name": "stdout",
     "output_type": "stream",
     "text": [
      "Cursos que continuaram juntos do cluster 0 na primeira clusterização para o cluster 0 na segunda:\n",
      "{'recife_licenciatura_quimica', 'recife_licenciatura_matematica', 'recife_licenciatura_ciencias_biologicas', 'recife_bacharelado_agronomia'}\n",
      "\n",
      "Cursos que continuaram juntos do cluster 0 na primeira clusterização para o cluster 4 na segunda:\n",
      "{'recife_bacharelado_medicina_veterinaria'}\n",
      "\n",
      "Cursos que continuaram juntos do cluster 1 na primeira clusterização para o cluster 0 na segunda:\n",
      "{'recife_bacharelado_zootecnia'}\n",
      "\n",
      "Cursos que continuaram juntos do cluster 1 na primeira clusterização para o cluster 3 na segunda:\n",
      "{'recife_bacharelado_engenharia_florestal', 'serra_talhada_bacharelado_zootecnia', 'serra_talhada_bacharelado_ciencias_biologicas', 'serra_talhada_bacharelado_ciencias_economicas', 'recife_licenciatura_fisica', 'serra_talhada_licenciatura_quimica', 'serra_talhada_bacharelado_sistema_de_informacao', 'serra_talhada_bacharelado_administracao'}\n",
      "\n",
      "Cursos que continuaram juntos do cluster 1 na primeira clusterização para o cluster 4 na segunda:\n",
      "{'serra_talhada_bacharelado_agronomia', 'serra_talhada_licenciatura_letras_-_portugues_e_ingles', 'recife_bacharelado_ciencias_biologicas'}\n",
      "\n",
      "Cursos que continuaram juntos do cluster 2 na primeira clusterização para o cluster 3 na segunda:\n",
      "{'cabo_de_santo_agostinho_bacharelado_engenharia_eletronica', 'cabo_de_santo_agostinho_bacharelado_engenharia_civil', 'cabo_de_santo_agostinho_bacharelado_engenharia_eletrica', 'cabo_de_santo_agostinho_bacharelado_engenharia_mecanica'}\n",
      "\n",
      "Cursos que continuaram juntos do cluster 4 na primeira clusterização para o cluster 0 na segunda:\n",
      "{'recife_licenciatura_educacao_fisica', 'recife_licenciatura_computacao', 'recife_bacharelado_ciencia_da_computacao', 'recife_licenciatura_pedagogia'}\n",
      "\n",
      "Cursos que continuaram juntos do cluster 4 na primeira clusterização para o cluster 4 na segunda:\n",
      "{'recife_bacharelado_ciencias_sociais', 'recife_bacharelado_ciencias_economicas', 'recife_licenciatura_letras_-_portugues_e_espanhol', 'recife_bacharelado_sistema_de_informacao', 'recife_bacharelado_administracao', 'recife_licenciatura_historia'}\n",
      "\n"
     ]
    }
   ],
   "source": [
    "# Passo 3: Comparar os agrupamentos usando os dicionários criados\n",
    "for label1, cursos1 in dict1.items():\n",
    "    cluster_primeiro = set(cursos1)\n",
    "    for label2, cursos2 in dict2.items():\n",
    "        cluster_segundo = set(cursos2)\n",
    "        intersecao = cluster_primeiro.intersection(cluster_segundo)\n",
    "        if intersecao:\n",
    "            print(f\"Cursos que continuaram juntos do cluster {label1} na primeira clusterização para o cluster {label2} na segunda:\")\n",
    "            print(intersecao)\n",
    "            print()"
   ]
  }
 ],
 "metadata": {
  "kernelspec": {
   "display_name": "Python 3 (ipykernel)",
   "language": "python",
   "name": "python3"
  },
  "language_info": {
   "codemirror_mode": {
    "name": "ipython",
    "version": 3
   },
   "file_extension": ".py",
   "mimetype": "text/x-python",
   "name": "python",
   "nbconvert_exporter": "python",
   "pygments_lexer": "ipython3",
   "version": "3.12.3"
  }
 },
 "nbformat": 4,
 "nbformat_minor": 5
}
