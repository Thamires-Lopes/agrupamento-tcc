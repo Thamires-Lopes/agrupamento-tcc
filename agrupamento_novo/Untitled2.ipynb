{
 "cells": [
  {
   "cell_type": "code",
   "execution_count": 1,
   "id": "c81af390-9a27-4438-af59-e3fb3b841149",
   "metadata": {},
   "outputs": [],
   "source": [
    "t_1 = ['no_cine_area_geral_artes_e_humanidades',\n",
    "       'no_cine_area_geral_ciencias_sociais,_comunicacao_e_informacao',\n",
    "       'no_cine_area_geral_negocios,_administracao_e_direito',\n",
    "       'no_cine_area_geral_saude_e_bem-estar', 'no_cine_area_geral_servicos',\n",
    "       'tp_grau_academico_bacharelado', 'tp_grau_academico_tecnologico',\n",
    "       'enade_faixa_1.5', 'enade_faixa_2.0', 'enade_faixa_3.0',\n",
    "       'enade_faixa_4.0', 'enade_faixa_5.0', 'cpc_faixa_1.5', 'cpc_faixa_2.0',\n",
    "       'cpc_faixa_3.0', 'cpc_faixa_4.0', 'cpc_faixa_5.0', 'qt_vg_total',\n",
    "       'qt_vg_remanesc', 'qt_inscrito_total', 'qt_insc_vg_remanesc',\n",
    "       'qt_ing_preta', 'qt_ing_amarela', 'qt_ing_cornd', 'qt_conc',\n",
    "       'qt_ing_deficiente', 'qt_ing_reserva_vaga', 'qt_sit_trancada',\n",
    "       'qt_sit_desvinculado', 'qt_apoio_social', 'qt_conc_apoio_social',\n",
    "       'qt_ativ_extracurricular', 'co_curso', 'no_curso']"
   ]
  },
  {
   "cell_type": "code",
   "execution_count": 2,
   "id": "c6b54846-efa0-4102-a308-805d15e2712b",
   "metadata": {},
   "outputs": [],
   "source": [
    "t_2 = ['no_cine_area_geral_agricultura,_silvicultura,_pesca_e_veterinaria',\n",
    "       'no_cine_area_geral_artes_e_humanidades',\n",
    "       'no_cine_area_geral_ciencias_naturais,_matematica_e_estatistica',\n",
    "       'no_cine_area_geral_ciencias_sociais,_comunicacao_e_informacao',\n",
    "       'no_cine_area_geral_computacao_e_tecnologias_da_informacao_e_comunicacao_(tic)',\n",
    "       'no_cine_area_geral_educacao',\n",
    "       'no_cine_area_geral_engenharia,_producao_e_construcao',\n",
    "       'no_cine_area_geral_negocios,_administracao_e_direito',\n",
    "       'no_cine_area_geral_saude_e_bem-estar', 'no_cine_area_geral_servicos',\n",
    "       'tp_grau_academico_bacharelado', 'tp_grau_academico_licenciatura',\n",
    "       'tp_grau_academico_tecnologico', 'enade_faixa_1.5', 'enade_faixa_2.0',\n",
    "       'enade_faixa_3.0', 'enade_faixa_4.0', 'enade_faixa_5.0',\n",
    "       'cpc_faixa_1.5', 'cpc_faixa_2.0', 'cpc_faixa_3.0', 'cpc_faixa_4.0',\n",
    "       'cpc_faixa_5.0', 'qt_vg_total', 'qt_vg_remanesc', 'qt_inscrito_total',\n",
    "       'qt_insc_vg_remanesc', 'qt_ing_preta', 'qt_ing_amarela', 'qt_ing_cornd',\n",
    "       'qt_conc', 'qt_ing_deficiente', 'qt_ing_reserva_vaga',\n",
    "       'qt_sit_trancada', 'qt_sit_desvinculado', 'qt_apoio_social',\n",
    "       'qt_conc_apoio_social', 'qt_ativ_extracurricular', 'co_curso',\n",
    "       'no_curso']"
   ]
  },
  {
   "cell_type": "code",
   "execution_count": 3,
   "id": "7cf03e9d-f95d-46ba-bbe6-e6119ea3c94e",
   "metadata": {},
   "outputs": [],
   "source": [
    "for k in t_1:\n",
    "    if k not in t_2:\n",
    "        print(k)"
   ]
  },
  {
   "cell_type": "code",
   "execution_count": 4,
   "id": "405b8fa4-479d-4b24-b973-863e057eaa21",
   "metadata": {},
   "outputs": [
    {
     "name": "stdout",
     "output_type": "stream",
     "text": [
      "no_cine_area_geral_agricultura,_silvicultura,_pesca_e_veterinaria\n",
      "no_cine_area_geral_ciencias_naturais,_matematica_e_estatistica\n",
      "no_cine_area_geral_computacao_e_tecnologias_da_informacao_e_comunicacao_(tic)\n",
      "no_cine_area_geral_educacao\n",
      "no_cine_area_geral_engenharia,_producao_e_construcao\n",
      "tp_grau_academico_licenciatura\n"
     ]
    }
   ],
   "source": [
    "for k in t_2:\n",
    "    if k not in t_1:\n",
    "        print(k)"
   ]
  },
  {
   "cell_type": "code",
   "execution_count": 5,
   "id": "199432e5-6d55-43df-bc5c-fa2be1706c27",
   "metadata": {},
   "outputs": [],
   "source": [
    "array = []\n",
    "for k in t_2:\n",
    "    if k not in t_1:\n",
    "        array.append(str(k))"
   ]
  },
  {
   "cell_type": "code",
   "execution_count": 6,
   "id": "3ff0f072-6a00-4098-8347-ed6d934aa236",
   "metadata": {},
   "outputs": [
    {
     "data": {
      "text/plain": [
       "['no_cine_area_geral_agricultura,_silvicultura,_pesca_e_veterinaria',\n",
       " 'no_cine_area_geral_ciencias_naturais,_matematica_e_estatistica',\n",
       " 'no_cine_area_geral_computacao_e_tecnologias_da_informacao_e_comunicacao_(tic)',\n",
       " 'no_cine_area_geral_educacao',\n",
       " 'no_cine_area_geral_engenharia,_producao_e_construcao',\n",
       " 'tp_grau_academico_licenciatura']"
      ]
     },
     "execution_count": 6,
     "metadata": {},
     "output_type": "execute_result"
    }
   ],
   "source": [
    "array"
   ]
  },
  {
   "cell_type": "code",
   "execution_count": 5,
   "id": "a5d0a7ec-f00d-4e2a-a34c-1e48cb0d00b7",
   "metadata": {},
   "outputs": [],
   "source": [
    "original = ['no_cine_area_geral_agricultura,_silvicultura,_pesca_e_veterinaria',\n",
    "       'no_cine_area_geral_ciencias_naturais,_matematica_e_estatistica',\n",
    "       'no_cine_area_geral_ciencias_sociais,_comunicacao_e_informacao',\n",
    "       'no_cine_area_geral_computacao_e_tecnologias_da_informacao_e_comunicacao_(tic)',\n",
    "       'no_cine_area_geral_educacao',\n",
    "       'no_cine_area_geral_engenharia,_producao_e_construcao',\n",
    "       'no_cine_area_geral_negocios,_administracao_e_direito',\n",
    "       'no_cine_area_geral_servicos', 'tp_grau_academico_bacharelado',\n",
    "       'tp_grau_academico_licenciatura', 'tp_grau_academico_tecnologico',\n",
    "       'enade_faixa_2', 'enade_faixa_3', 'enade_faixa_4', 'enade_faixa_5',\n",
    "       'enade_faixa_SC', 'cpc_faixa_3', 'cpc_faixa_4', 'cpc_faixa_5',\n",
    "       'cpc_faixa_SC', 'qt_vg_total', 'qt_vg_remanesc', 'qt_inscrito_total',\n",
    "       'qt_insc_vg_remanesc', 'qt_ing_fem', 'qt_ing_masc',\n",
    "       'qt_ing_outra_forma', 'qt_ing_preta', 'qt_ing_amarela', 'qt_ing_cornd',\n",
    "       'qt_conc', 'qt_ing_deficiente', 'qt_ing_reserva_vaga',\n",
    "       'qt_sit_trancada', 'qt_sit_desvinculado', 'qt_ing_procescprivada',\n",
    "       'qt_conc_procescpublica', 'qt_apoio_social', 'qt_conc_apoio_social',\n",
    "       'qt_ativ_extracurricular', 'co_curso', 'no_curso']"
   ]
  },
  {
   "cell_type": "code",
   "execution_count": 6,
   "id": "89f5816b-0f6d-465b-9c92-4bc41b925558",
   "metadata": {},
   "outputs": [],
   "source": [
    "novo = ['no_cine_area_geral_agricultura,_silvicultura,_pesca_e_veterinaria',\n",
    "       'no_cine_area_geral_artes_e_humanidades',\n",
    "       'no_cine_area_geral_ciencias_naturais,_matematica_e_estatistica',\n",
    "       'no_cine_area_geral_ciencias_sociais,_comunicacao_e_informacao',\n",
    "       'no_cine_area_geral_computacao_e_tecnologias_da_informacao_e_comunicacao_(tic)',\n",
    "       'no_cine_area_geral_educacao',\n",
    "       'no_cine_area_geral_engenharia,_producao_e_construcao',\n",
    "       'no_cine_area_geral_negocios,_administracao_e_direito',\n",
    "       'no_cine_area_geral_saude_e_bem-estar', 'no_cine_area_geral_servicos',\n",
    "       'tp_grau_academico_bacharelado', 'tp_grau_academico_licenciatura',\n",
    "       'tp_grau_academico_tecnologico', 'enade_faixa_1.5', 'enade_faixa_2.0',\n",
    "       'enade_faixa_3.0', 'enade_faixa_4.0', 'enade_faixa_5.0',\n",
    "       'cpc_faixa_1.5', 'cpc_faixa_2.0', 'cpc_faixa_3.0', 'cpc_faixa_4.0',\n",
    "       'cpc_faixa_5.0', 'qt_vg_total', 'qt_vg_nova', 'qt_vg_remanesc',\n",
    "       'qt_inscrito_total', 'qt_inscrito_total_diurno', 'qt_insc_vg_remanesc',\n",
    "       'qt_ing_fem', 'qt_ing_masc', 'qt_ing_diurno', 'qt_ing_noturno',\n",
    "       'qt_ing_branca', 'qt_ing_preta', 'qt_ing_amarela', 'qt_ing_cornd',\n",
    "       'qt_mat', 'qt_mat_fem', 'qt_mat_masc', 'qt_mat_noturno', 'qt_mat_35_39',\n",
    "       'qt_mat_40_49', 'qt_mat_branca', 'qt_mat_parda', 'qt_conc',\n",
    "       'qt_conc_fem', 'qt_conc_diurno', 'qt_conc_noturno', 'qt_conc_18_24',\n",
    "       'qt_conc_25_29', 'qt_conc_branca', 'qt_ing_deficiente',\n",
    "       'qt_ing_reserva_vaga', 'qt_ing_rvetnico', 'qt_ing_rvsocial_rf',\n",
    "       'qt_mat_reserva_vaga', 'qt_mat_rvetnico', 'qt_mat_rvsocial_rf',\n",
    "       'qt_conc_reserva_vaga', 'qt_conc_rvetnico', 'qt_conc_rvsocial_rf',\n",
    "       'qt_sit_trancada', 'qt_sit_desvinculado', 'qt_ing_procescpublica',\n",
    "       'qt_mat_procescpublica', 'qt_mat_procescprivada',\n",
    "       'qt_conc_procescpublica', 'qt_conc_procescprivada', 'qt_apoio_social',\n",
    "       'qt_conc_apoio_social', 'qt_ativ_extracurricular', 'co_curso',\n",
    "       'no_curso']"
   ]
  },
  {
   "cell_type": "code",
   "execution_count": 7,
   "id": "5b763633-4dc1-4c83-a4e8-48d7d727d0bf",
   "metadata": {},
   "outputs": [
    {
     "name": "stdout",
     "output_type": "stream",
     "text": [
      "enade_faixa_2\n",
      "enade_faixa_3\n",
      "enade_faixa_4\n",
      "enade_faixa_5\n",
      "enade_faixa_SC\n",
      "cpc_faixa_3\n",
      "cpc_faixa_4\n",
      "cpc_faixa_5\n",
      "cpc_faixa_SC\n",
      "qt_ing_outra_forma\n",
      "qt_ing_procescprivada\n"
     ]
    }
   ],
   "source": [
    "for k in original:\n",
    "    if k not in novo:\n",
    "        print(k)"
   ]
  },
  {
   "cell_type": "code",
   "execution_count": 8,
   "id": "e26dd56e-0cdc-44c2-b172-0b19583e6c89",
   "metadata": {},
   "outputs": [
    {
     "name": "stdout",
     "output_type": "stream",
     "text": [
      "no_cine_area_geral_artes_e_humanidades\n",
      "no_cine_area_geral_saude_e_bem-estar\n",
      "enade_faixa_1.5\n",
      "enade_faixa_2.0\n",
      "enade_faixa_3.0\n",
      "enade_faixa_4.0\n",
      "enade_faixa_5.0\n",
      "cpc_faixa_1.5\n",
      "cpc_faixa_2.0\n",
      "cpc_faixa_3.0\n",
      "cpc_faixa_4.0\n",
      "cpc_faixa_5.0\n",
      "qt_vg_nova\n",
      "qt_inscrito_total_diurno\n",
      "qt_ing_diurno\n",
      "qt_ing_noturno\n",
      "qt_ing_branca\n",
      "qt_mat\n",
      "qt_mat_fem\n",
      "qt_mat_masc\n",
      "qt_mat_noturno\n",
      "qt_mat_35_39\n",
      "qt_mat_40_49\n",
      "qt_mat_branca\n",
      "qt_mat_parda\n",
      "qt_conc_fem\n",
      "qt_conc_diurno\n",
      "qt_conc_noturno\n",
      "qt_conc_18_24\n",
      "qt_conc_25_29\n",
      "qt_conc_branca\n",
      "qt_ing_rvetnico\n",
      "qt_ing_rvsocial_rf\n",
      "qt_mat_reserva_vaga\n",
      "qt_mat_rvetnico\n",
      "qt_mat_rvsocial_rf\n",
      "qt_conc_reserva_vaga\n",
      "qt_conc_rvetnico\n",
      "qt_conc_rvsocial_rf\n",
      "qt_ing_procescpublica\n",
      "qt_mat_procescpublica\n",
      "qt_mat_procescprivada\n",
      "qt_conc_procescprivada\n"
     ]
    }
   ],
   "source": [
    "for k in novo:\n",
    "    if k not in original:\n",
    "        print(k)"
   ]
  },
  {
   "cell_type": "code",
   "execution_count": 1,
   "id": "9e116aa6-4ba6-4280-b8f5-da2331e59959",
   "metadata": {},
   "outputs": [],
   "source": [
    "import pandas as pd\n",
    "import numpy as np"
   ]
  },
  {
   "cell_type": "code",
   "execution_count": 5,
   "id": "42c9eead-8399-44e7-ae5f-b8ae1d5b6116",
   "metadata": {},
   "outputs": [],
   "source": [
    "data = {\n",
    "    'B': [2, 4, 6, 8, 10],\n",
    "    'A': [1, 2, 3, 4, 5],\n",
    "    'C': [5, 3, 6, 9, 12],\n",
    "    'D': [5, 5, 5, 5, 5]  # Coluna constante\n",
    "}\n",
    "df_processed = pd.DataFrame(data)"
   ]
  },
  {
   "cell_type": "code",
   "execution_count": 6,
   "id": "c38bb87a-1cc2-4fc3-9057-56212c661ca3",
   "metadata": {},
   "outputs": [],
   "source": [
    "limit = 0.9\n",
    "corr = df_processed.corr(numeric_only=True)\n",
    "mask = np.triu(\n",
    "    np.ones(corr.shape), k=1\n",
    ").astype(bool)\n",
    "corr_no_dial = corr.where(mask)\n",
    "coll = [\n",
    "    c\n",
    "    for c in corr_no_dial.columns\n",
    "    if any(abs(corr_no_dial[c])>limit)\n",
    "]"
   ]
  },
  {
   "cell_type": "code",
   "execution_count": 7,
   "id": "fc3de0f6-4312-4c05-9da2-b9cbd5cb58ff",
   "metadata": {},
   "outputs": [
    {
     "name": "stdout",
     "output_type": "stream",
     "text": [
      "['A']\n"
     ]
    }
   ],
   "source": [
    "print(coll)"
   ]
  },
  {
   "cell_type": "code",
   "execution_count": 2,
   "id": "d4104ddd-d8e2-4861-96b2-83a8983078c2",
   "metadata": {},
   "outputs": [],
   "source": [
    "import pandas as pd"
   ]
  },
  {
   "cell_type": "code",
   "execution_count": 3,
   "id": "8bccc552-fbdc-40a4-ac2f-b65521358fb5",
   "metadata": {},
   "outputs": [
    {
     "name": "stderr",
     "output_type": "stream",
     "text": [
      "C:\\Users\\thami\\AppData\\Local\\Temp\\ipykernel_13164\\2480471517.py:1: DtypeWarning: Columns (1,3,4,6) have mixed types. Specify dtype option on import or set low_memory=False.\n",
      "  df_2022 = pd.read_csv('dados/microdados_2022/dados/MICRODADOS_CADASTRO_CURSOS_2022.CSV',encoding='ISO-8859-1',sep=';')\n"
     ]
    }
   ],
   "source": [
    "df_2022 = pd.read_csv('dados/microdados_2022/dados/MICRODADOS_CADASTRO_CURSOS_2022.CSV',encoding='ISO-8859-1',sep=';')"
   ]
  },
  {
   "cell_type": "code",
   "execution_count": 4,
   "id": "d2f860de-6207-4714-a2f4-1b7521fb2528",
   "metadata": {},
   "outputs": [
    {
     "name": "stdout",
     "output_type": "stream",
     "text": [
      "NU_ANO_CENSO\n",
      "NO_REGIAO\n",
      "CO_REGIAO\n",
      "NO_UF\n",
      "SG_UF\n",
      "CO_UF\n",
      "NO_MUNICIPIO\n",
      "CO_MUNICIPIO\n",
      "IN_CAPITAL\n",
      "TP_DIMENSAO\n",
      "TP_ORGANIZACAO_ACADEMICA\n",
      "TP_CATEGORIA_ADMINISTRATIVA\n",
      "TP_REDE\n",
      "CO_IES\n",
      "NO_CURSO\n",
      "CO_CURSO\n",
      "NO_CINE_ROTULO\n",
      "CO_CINE_ROTULO\n",
      "CO_CINE_AREA_GERAL\n",
      "NO_CINE_AREA_GERAL\n",
      "CO_CINE_AREA_ESPECIFICA\n",
      "NO_CINE_AREA_ESPECIFICA\n",
      "CO_CINE_AREA_DETALHADA\n",
      "NO_CINE_AREA_DETALHADA\n",
      "TP_GRAU_ACADEMICO\n",
      "IN_GRATUITO\n",
      "TP_MODALIDADE_ENSINO\n",
      "TP_NIVEL_ACADEMICO\n",
      "QT_CURSO\n",
      "QT_VG_TOTAL\n",
      "QT_VG_TOTAL_DIURNO\n",
      "QT_VG_TOTAL_NOTURNO\n",
      "QT_VG_TOTAL_EAD\n",
      "QT_VG_NOVA\n",
      "QT_VG_PROC_SELETIVO\n",
      "QT_VG_REMANESC\n",
      "QT_VG_PROG_ESPECIAL\n",
      "QT_INSCRITO_TOTAL\n",
      "QT_INSCRITO_TOTAL_DIURNO\n",
      "QT_INSCRITO_TOTAL_NOTURNO\n",
      "QT_INSCRITO_TOTAL_EAD\n",
      "QT_INSC_VG_NOVA\n",
      "QT_INSC_PROC_SELETIVO\n",
      "QT_INSC_VG_REMANESC\n",
      "QT_INSC_VG_PROG_ESPECIAL\n",
      "QT_ING\n",
      "QT_ING_FEM\n",
      "QT_ING_MASC\n",
      "QT_ING_DIURNO\n",
      "QT_ING_NOTURNO\n",
      "QT_ING_VG_NOVA\n",
      "QT_ING_VESTIBULAR\n",
      "QT_ING_ENEM\n",
      "QT_ING_AVALIACAO_SERIADA\n",
      "QT_ING_SELECAO_SIMPLIFICA\n",
      "QT_ING_EGR\n",
      "QT_ING_OUTRO_TIPO_SELECAO\n",
      "QT_ING_PROC_SELETIVO\n",
      "QT_ING_VG_REMANESC\n",
      "QT_ING_VG_PROG_ESPECIAL\n",
      "QT_ING_OUTRA_FORMA\n",
      "QT_ING_0_17\n",
      "QT_ING_18_24\n",
      "QT_ING_25_29\n",
      "QT_ING_30_34\n",
      "QT_ING_35_39\n",
      "QT_ING_40_49\n",
      "QT_ING_50_59\n",
      "QT_ING_60_MAIS\n",
      "QT_ING_BRANCA\n",
      "QT_ING_PRETA\n",
      "QT_ING_PARDA\n",
      "QT_ING_AMARELA\n",
      "QT_ING_INDIGENA\n",
      "QT_ING_CORND\n",
      "QT_MAT\n",
      "QT_MAT_FEM\n",
      "QT_MAT_MASC\n",
      "QT_MAT_DIURNO\n",
      "QT_MAT_NOTURNO\n",
      "QT_MAT_0_17\n",
      "QT_MAT_18_24\n",
      "QT_MAT_25_29\n",
      "QT_MAT_30_34\n",
      "QT_MAT_35_39\n",
      "QT_MAT_40_49\n",
      "QT_MAT_50_59\n",
      "QT_MAT_60_MAIS\n",
      "QT_MAT_BRANCA\n",
      "QT_MAT_PRETA\n",
      "QT_MAT_PARDA\n",
      "QT_MAT_AMARELA\n",
      "QT_MAT_INDIGENA\n",
      "QT_MAT_CORND\n",
      "QT_CONC\n",
      "QT_CONC_FEM\n",
      "QT_CONC_MASC\n",
      "QT_CONC_DIURNO\n",
      "QT_CONC_NOTURNO\n",
      "QT_CONC_0_17\n",
      "QT_CONC_18_24\n",
      "QT_CONC_25_29\n",
      "QT_CONC_30_34\n",
      "QT_CONC_35_39\n",
      "QT_CONC_40_49\n",
      "QT_CONC_50_59\n",
      "QT_CONC_60_MAIS\n",
      "QT_CONC_BRANCA\n",
      "QT_CONC_PRETA\n",
      "QT_CONC_PARDA\n",
      "QT_CONC_AMARELA\n",
      "QT_CONC_INDIGENA\n",
      "QT_CONC_CORND\n",
      "QT_ING_NACBRAS\n",
      "QT_ING_NACESTRANG\n",
      "QT_MAT_NACBRAS\n",
      "QT_MAT_NACESTRANG\n",
      "QT_CONC_NACBRAS\n",
      "QT_CONC_NACESTRANG\n",
      "QT_ALUNO_DEFICIENTE\n",
      "QT_ING_DEFICIENTE\n",
      "QT_MAT_DEFICIENTE\n",
      "QT_CONC_DEFICIENTE\n",
      "QT_ING_FINANC\n",
      "QT_ING_FINANC_REEMB\n",
      "QT_ING_FIES\n",
      "QT_ING_RPFIES\n",
      "QT_ING_FINANC_REEMB_OUTROS\n",
      "QT_ING_FINANC_NREEMB\n",
      "QT_ING_PROUNII\n",
      "QT_ING_PROUNIP\n",
      "QT_ING_NRPFIES\n",
      "QT_ING_FINANC_NREEMB_OUTROS\n",
      "QT_MAT_FINANC\n",
      "QT_MAT_FINANC_REEMB\n",
      "QT_MAT_FIES\n",
      "QT_MAT_RPFIES\n",
      "QT_MAT_FINANC_REEMB_OUTROS\n",
      "QT_MAT_FINANC_NREEMB\n",
      "QT_MAT_PROUNII\n",
      "QT_MAT_PROUNIP\n",
      "QT_MAT_NRPFIES\n",
      "QT_MAT_FINANC_NREEMB_OUTROS\n",
      "QT_CONC_FINANC\n",
      "QT_CONC_FINANC_REEMB\n",
      "QT_CONC_FIES\n",
      "QT_CONC_RPFIES\n",
      "QT_CONC_FINANC_REEMB_OUTROS\n",
      "QT_CONC_FINANC_NREEMB\n",
      "QT_CONC_PROUNII\n",
      "QT_CONC_PROUNIP\n",
      "QT_CONC_NRPFIES\n",
      "QT_CONC_FINANC_NREEMB_OUTROS\n",
      "QT_ING_RESERVA_VAGA\n",
      "QT_ING_RVREDEPUBLICA\n",
      "QT_ING_RVETNICO\n",
      "QT_ING_RVPDEF\n",
      "QT_ING_RVSOCIAL_RF\n",
      "QT_ING_RVOUTROS\n",
      "QT_MAT_RESERVA_VAGA\n",
      "QT_MAT_RVREDEPUBLICA\n",
      "QT_MAT_RVETNICO\n",
      "QT_MAT_RVPDEF\n",
      "QT_MAT_RVSOCIAL_RF\n",
      "QT_MAT_RVOUTROS\n",
      "QT_CONC_RESERVA_VAGA\n",
      "QT_CONC_RVREDEPUBLICA\n",
      "QT_CONC_RVETNICO\n",
      "QT_CONC_RVPDEF\n",
      "QT_CONC_RVSOCIAL_RF\n",
      "QT_CONC_RVOUTROS\n",
      "QT_SIT_TRANCADA\n",
      "QT_SIT_DESVINCULADO\n",
      "QT_SIT_TRANSFERIDO\n",
      "QT_SIT_FALECIDO\n",
      "QT_ING_PROCESCPUBLICA\n",
      "QT_ING_PROCESCPRIVADA\n",
      "QT_ING_PROCNAOINFORMADA\n",
      "QT_MAT_PROCESCPUBLICA\n",
      "QT_MAT_PROCESCPRIVADA\n",
      "QT_MAT_PROCNAOINFORMADA\n",
      "QT_CONC_PROCESCPUBLICA\n",
      "QT_CONC_PROCESCPRIVADA\n",
      "QT_CONC_PROCNAOINFORMADA\n",
      "QT_PARFOR\n",
      "QT_ING_PARFOR\n",
      "QT_MAT_PARFOR\n",
      "QT_CONC_PARFOR\n",
      "QT_APOIO_SOCIAL\n",
      "QT_ING_APOIO_SOCIAL\n",
      "QT_MAT_APOIO_SOCIAL\n",
      "QT_CONC_APOIO_SOCIAL\n",
      "QT_ATIV_EXTRACURRICULAR\n",
      "QT_ING_ATIV_EXTRACURRICULAR\n",
      "QT_MAT_ATIV_EXTRACURRICULAR\n",
      "QT_CONC_ATIV_EXTRACURRICULAR\n",
      "QT_MOB_ACADEMICA\n",
      "QT_ING_MOB_ACADEMICA\n",
      "QT_MAT_MOB_ACADEMICA\n",
      "QT_CONC_MOB_ACADEMICA\n"
     ]
    }
   ],
   "source": [
    "for k in df_2022.columns:\n",
    "    print(k)"
   ]
  },
  {
   "cell_type": "code",
   "execution_count": null,
   "id": "683f381d-7067-487e-841e-17344faa7c57",
   "metadata": {},
   "outputs": [],
   "source": []
  }
 ],
 "metadata": {
  "kernelspec": {
   "display_name": "Python 3 (ipykernel)",
   "language": "python",
   "name": "python3"
  },
  "language_info": {
   "codemirror_mode": {
    "name": "ipython",
    "version": 3
   },
   "file_extension": ".py",
   "mimetype": "text/x-python",
   "name": "python",
   "nbconvert_exporter": "python",
   "pygments_lexer": "ipython3",
   "version": "3.12.3"
  }
 },
 "nbformat": 4,
 "nbformat_minor": 5
}
