{
 "cells": [
  {
   "cell_type": "code",
   "execution_count": 1,
   "id": "0d17b1a1-9cf4-4f2e-aca9-11037ec33bc1",
   "metadata": {},
   "outputs": [],
   "source": [
    "import pandas as pd\n",
    "from unidecode import unidecode"
   ]
  },
  {
   "cell_type": "code",
   "execution_count": 2,
   "id": "c5d360ff-f6d9-40bb-a473-053b5bf641fd",
   "metadata": {},
   "outputs": [],
   "source": [
    "cpc_2019 = pd.read_csv(\"dados_processados/cpc_2019.csv\")\n",
    "cpc_2021 = pd.read_csv(\"dados_processados/cpc_2021.csv\")\n",
    "cpc_2022 = pd.read_csv(\"dados_processados/cpc_2022.csv\")"
   ]
  },
  {
   "cell_type": "code",
   "execution_count": 3,
   "id": "ee946d5e-352a-4640-9045-f934592befaf",
   "metadata": {},
   "outputs": [],
   "source": [
    "# Concatenando os dataframes\n",
    "cpc_final = pd.concat([cpc_2022, cpc_2021, cpc_2019])"
   ]
  },
  {
   "cell_type": "code",
   "execution_count": 4,
   "id": "29572c23-bf22-4107-88dd-33e2a0db5d81",
   "metadata": {},
   "outputs": [
    {
     "data": {
      "text/plain": [
       "(6535, 2)"
      ]
     },
     "execution_count": 4,
     "metadata": {},
     "output_type": "execute_result"
    }
   ],
   "source": [
    "cpc_final.shape"
   ]
  },
  {
   "cell_type": "code",
   "execution_count": 5,
   "id": "34ae3531-7786-4ce4-924a-71a093521bd5",
   "metadata": {},
   "outputs": [],
   "source": [
    "# Removendo duplicatas, mantendo a primeira ocorrência (2022, depois 2021, e por último 2019)\n",
    "cpc_final = cpc_final.drop_duplicates(subset='co_curso', keep='first').reset_index(drop=True)"
   ]
  },
  {
   "cell_type": "code",
   "execution_count": 6,
   "id": "516a629a-9972-478c-ab61-00497cb73bd7",
   "metadata": {},
   "outputs": [
    {
     "data": {
      "text/plain": [
       "(6470, 2)"
      ]
     },
     "execution_count": 6,
     "metadata": {},
     "output_type": "execute_result"
    }
   ],
   "source": [
    "cpc_final.shape"
   ]
  },
  {
   "cell_type": "code",
   "execution_count": 7,
   "id": "0e75bc77-37fa-4e25-af17-2a950f895dd5",
   "metadata": {},
   "outputs": [
    {
     "data": {
      "text/html": [
       "<div>\n",
       "<style scoped>\n",
       "    .dataframe tbody tr th:only-of-type {\n",
       "        vertical-align: middle;\n",
       "    }\n",
       "\n",
       "    .dataframe tbody tr th {\n",
       "        vertical-align: top;\n",
       "    }\n",
       "\n",
       "    .dataframe thead th {\n",
       "        text-align: right;\n",
       "    }\n",
       "</style>\n",
       "<table border=\"1\" class=\"dataframe\">\n",
       "  <thead>\n",
       "    <tr style=\"text-align: right;\">\n",
       "      <th></th>\n",
       "      <th>co_curso</th>\n",
       "      <th>cpc_faixa</th>\n",
       "    </tr>\n",
       "  </thead>\n",
       "  <tbody>\n",
       "    <tr>\n",
       "      <th>0</th>\n",
       "      <td>13</td>\n",
       "      <td>4</td>\n",
       "    </tr>\n",
       "    <tr>\n",
       "      <th>1</th>\n",
       "      <td>8</td>\n",
       "      <td>4</td>\n",
       "    </tr>\n",
       "    <tr>\n",
       "      <th>2</th>\n",
       "      <td>2</td>\n",
       "      <td>3</td>\n",
       "    </tr>\n",
       "    <tr>\n",
       "      <th>3</th>\n",
       "      <td>1</td>\n",
       "      <td>4</td>\n",
       "    </tr>\n",
       "    <tr>\n",
       "      <th>4</th>\n",
       "      <td>123427</td>\n",
       "      <td>4</td>\n",
       "    </tr>\n",
       "    <tr>\n",
       "      <th>...</th>\n",
       "      <td>...</td>\n",
       "      <td>...</td>\n",
       "    </tr>\n",
       "    <tr>\n",
       "      <th>6465</th>\n",
       "      <td>1146839</td>\n",
       "      <td>2</td>\n",
       "    </tr>\n",
       "    <tr>\n",
       "      <th>6466</th>\n",
       "      <td>1186268</td>\n",
       "      <td>3</td>\n",
       "    </tr>\n",
       "    <tr>\n",
       "      <th>6467</th>\n",
       "      <td>1208279</td>\n",
       "      <td>2</td>\n",
       "    </tr>\n",
       "    <tr>\n",
       "      <th>6468</th>\n",
       "      <td>1428361</td>\n",
       "      <td>4</td>\n",
       "    </tr>\n",
       "    <tr>\n",
       "      <th>6469</th>\n",
       "      <td>123116</td>\n",
       "      <td>4</td>\n",
       "    </tr>\n",
       "  </tbody>\n",
       "</table>\n",
       "<p>6470 rows × 2 columns</p>\n",
       "</div>"
      ],
      "text/plain": [
       "      co_curso  cpc_faixa\n",
       "0           13          4\n",
       "1            8          4\n",
       "2            2          3\n",
       "3            1          4\n",
       "4       123427          4\n",
       "...        ...        ...\n",
       "6465   1146839          2\n",
       "6466   1186268          3\n",
       "6467   1208279          2\n",
       "6468   1428361          4\n",
       "6469    123116          4\n",
       "\n",
       "[6470 rows x 2 columns]"
      ]
     },
     "execution_count": 7,
     "metadata": {},
     "output_type": "execute_result"
    }
   ],
   "source": [
    "cpc_final"
   ]
  },
  {
   "cell_type": "code",
   "execution_count": 8,
   "id": "e82547ad-bbce-4050-971a-7e642c98ad56",
   "metadata": {},
   "outputs": [],
   "source": [
    "cpc_final.to_csv('dados_processados/cpc_final.csv', index=False)"
   ]
  }
 ],
 "metadata": {
  "kernelspec": {
   "display_name": "Python 3 (ipykernel)",
   "language": "python",
   "name": "python3"
  },
  "language_info": {
   "codemirror_mode": {
    "name": "ipython",
    "version": 3
   },
   "file_extension": ".py",
   "mimetype": "text/x-python",
   "name": "python",
   "nbconvert_exporter": "python",
   "pygments_lexer": "ipython3",
   "version": "3.12.3"
  }
 },
 "nbformat": 4,
 "nbformat_minor": 5
}
