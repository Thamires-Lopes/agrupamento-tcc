{
 "cells": [
  {
   "cell_type": "code",
   "execution_count": 1,
   "id": "046a96b4-4b3e-4ca6-be36-995aaa8ef27e",
   "metadata": {},
   "outputs": [],
   "source": [
    "import pandas as pd\n",
    "from sklearn.cluster import KMeans\n",
    "from sklearn.metrics import silhouette_score"
   ]
  },
  {
   "cell_type": "code",
   "execution_count": 2,
   "id": "857c34a6-9d22-449b-8f52-d27b433e1ec0",
   "metadata": {},
   "outputs": [],
   "source": [
    "df = pd.read_csv('dados_processados/cursos-pos-processamento.csv',sep=';')"
   ]
  },
  {
   "cell_type": "code",
   "execution_count": 3,
   "id": "11dfe8e8-efaa-42c2-9a92-8a1bfc03ce60",
   "metadata": {},
   "outputs": [],
   "source": [
    "df_scaled = df.drop(['no_curso','co_curso'],axis=1)"
   ]
  },
  {
   "cell_type": "code",
   "execution_count": 4,
   "id": "c8f02db6-83e7-443d-9646-2b76fb651319",
   "metadata": {},
   "outputs": [
    {
     "name": "stdout",
     "output_type": "stream",
     "text": [
      "Para k=2:\n",
      "Melhor conjunto de features: ['no_cine_area_geral_agricultura,_silvicultura,_pesca_e_veterinaria', 'no_cine_area_geral_artes_e_humanidades', 'no_cine_area_geral_ciencias_naturais,_matematica_e_estatistica', 'no_cine_area_geral_ciencias_sociais,_comunicacao_e_informacao', 'no_cine_area_geral_computacao_e_tecnologias_da_informacao_e_comunicacao_(tic)', 'no_cine_area_geral_educacao', 'no_cine_area_geral_engenharia,_producao_e_construcao', 'no_cine_area_geral_negocios,_administracao_e_direito', 'no_cine_area_geral_saude_e_bem-estar', 'no_cine_area_geral_servicos', 'tp_grau_academico_bacharelado', 'tp_grau_academico_licenciatura']\n",
      "Melhor índice de silhueta: 0.5892116382259857\n",
      "---------\n",
      "Para k=3:\n",
      "Melhor conjunto de features: ['no_cine_area_geral_agricultura,_silvicultura,_pesca_e_veterinaria', 'no_cine_area_geral_artes_e_humanidades', 'no_cine_area_geral_ciencias_naturais,_matematica_e_estatistica', 'no_cine_area_geral_ciencias_sociais,_comunicacao_e_informacao', 'no_cine_area_geral_computacao_e_tecnologias_da_informacao_e_comunicacao_(tic)', 'no_cine_area_geral_educacao', 'no_cine_area_geral_engenharia,_producao_e_construcao', 'no_cine_area_geral_negocios,_administracao_e_direito', 'no_cine_area_geral_saude_e_bem-estar', 'no_cine_area_geral_servicos', 'tp_grau_academico_bacharelado', 'tp_grau_academico_licenciatura']\n",
      "Melhor índice de silhueta: 0.5638752469981205\n",
      "---------\n",
      "Para k=4:\n",
      "Melhor conjunto de features: ['no_cine_area_geral_agricultura,_silvicultura,_pesca_e_veterinaria', 'no_cine_area_geral_artes_e_humanidades', 'no_cine_area_geral_ciencias_naturais,_matematica_e_estatistica', 'no_cine_area_geral_ciencias_sociais,_comunicacao_e_informacao', 'no_cine_area_geral_computacao_e_tecnologias_da_informacao_e_comunicacao_(tic)', 'no_cine_area_geral_educacao', 'no_cine_area_geral_engenharia,_producao_e_construcao', 'no_cine_area_geral_negocios,_administracao_e_direito', 'no_cine_area_geral_saude_e_bem-estar', 'no_cine_area_geral_servicos', 'tp_grau_academico_bacharelado']\n",
      "Melhor índice de silhueta: 0.6309951878186263\n",
      "---------\n",
      "Para k=5:\n",
      "Melhor conjunto de features: ['no_cine_area_geral_agricultura,_silvicultura,_pesca_e_veterinaria', 'no_cine_area_geral_artes_e_humanidades', 'no_cine_area_geral_ciencias_naturais,_matematica_e_estatistica', 'no_cine_area_geral_ciencias_sociais,_comunicacao_e_informacao', 'no_cine_area_geral_computacao_e_tecnologias_da_informacao_e_comunicacao_(tic)', 'no_cine_area_geral_educacao', 'no_cine_area_geral_engenharia,_producao_e_construcao', 'no_cine_area_geral_negocios,_administracao_e_direito', 'no_cine_area_geral_saude_e_bem-estar', 'no_cine_area_geral_servicos', 'tp_grau_academico_bacharelado', 'tp_grau_academico_licenciatura']\n",
      "Melhor índice de silhueta: 0.7022435422797285\n",
      "---------\n",
      "Para k=6:\n",
      "Melhor conjunto de features: ['no_cine_area_geral_agricultura,_silvicultura,_pesca_e_veterinaria', 'no_cine_area_geral_artes_e_humanidades', 'no_cine_area_geral_ciencias_naturais,_matematica_e_estatistica', 'no_cine_area_geral_ciencias_sociais,_comunicacao_e_informacao', 'no_cine_area_geral_computacao_e_tecnologias_da_informacao_e_comunicacao_(tic)', 'no_cine_area_geral_educacao', 'no_cine_area_geral_engenharia,_producao_e_construcao', 'no_cine_area_geral_negocios,_administracao_e_direito', 'no_cine_area_geral_saude_e_bem-estar', 'no_cine_area_geral_servicos', 'tp_grau_academico_bacharelado', 'tp_grau_academico_licenciatura']\n",
      "Melhor índice de silhueta: 0.7897498659091418\n",
      "---------\n",
      "Para k=7:\n",
      "Melhor conjunto de features: ['no_cine_area_geral_agricultura,_silvicultura,_pesca_e_veterinaria', 'no_cine_area_geral_artes_e_humanidades', 'no_cine_area_geral_ciencias_naturais,_matematica_e_estatistica', 'no_cine_area_geral_ciencias_sociais,_comunicacao_e_informacao', 'no_cine_area_geral_computacao_e_tecnologias_da_informacao_e_comunicacao_(tic)', 'no_cine_area_geral_educacao', 'no_cine_area_geral_engenharia,_producao_e_construcao', 'no_cine_area_geral_negocios,_administracao_e_direito', 'no_cine_area_geral_saude_e_bem-estar', 'no_cine_area_geral_servicos', 'tp_grau_academico_bacharelado', 'tp_grau_academico_licenciatura']\n",
      "Melhor índice de silhueta: 0.8535016039601399\n",
      "---------\n",
      "Para k=8:\n",
      "Melhor conjunto de features: ['no_cine_area_geral_agricultura,_silvicultura,_pesca_e_veterinaria', 'no_cine_area_geral_artes_e_humanidades', 'no_cine_area_geral_ciencias_naturais,_matematica_e_estatistica', 'no_cine_area_geral_ciencias_sociais,_comunicacao_e_informacao', 'no_cine_area_geral_computacao_e_tecnologias_da_informacao_e_comunicacao_(tic)', 'no_cine_area_geral_educacao', 'no_cine_area_geral_engenharia,_producao_e_construcao', 'no_cine_area_geral_negocios,_administracao_e_direito', 'no_cine_area_geral_saude_e_bem-estar', 'no_cine_area_geral_servicos', 'tp_grau_academico_bacharelado', 'tp_grau_academico_licenciatura']\n",
      "Melhor índice de silhueta: 0.878931969166653\n",
      "---------\n",
      "Para k=9:\n",
      "Melhor conjunto de features: ['no_cine_area_geral_agricultura,_silvicultura,_pesca_e_veterinaria', 'no_cine_area_geral_artes_e_humanidades', 'no_cine_area_geral_ciencias_naturais,_matematica_e_estatistica', 'no_cine_area_geral_ciencias_sociais,_comunicacao_e_informacao', 'no_cine_area_geral_computacao_e_tecnologias_da_informacao_e_comunicacao_(tic)', 'no_cine_area_geral_educacao', 'no_cine_area_geral_engenharia,_producao_e_construcao', 'no_cine_area_geral_negocios,_administracao_e_direito', 'no_cine_area_geral_saude_e_bem-estar', 'no_cine_area_geral_servicos', 'tp_grau_academico_bacharelado', 'tp_grau_academico_licenciatura']\n",
      "Melhor índice de silhueta: 0.9109147581839661\n",
      "---------\n"
     ]
    }
   ],
   "source": [
    "# Suponha que 'df' seja o seu DataFrame com o dataset carregado\n",
    "\n",
    "# Configurações\n",
    "mandatory_features = [\n",
    "    \"no_cine_area_geral_agricultura,_silvicultura,_pesca_e_veterinaria\",\n",
    "    \"no_cine_area_geral_artes_e_humanidades\",\n",
    "    \"no_cine_area_geral_ciencias_naturais,_matematica_e_estatistica\",\n",
    "    \"no_cine_area_geral_ciencias_sociais,_comunicacao_e_informacao\",\n",
    "    \"no_cine_area_geral_computacao_e_tecnologias_da_informacao_e_comunicacao_(tic)\",\n",
    "    \"no_cine_area_geral_educacao\",\n",
    "    \"no_cine_area_geral_engenharia,_producao_e_construcao\",\n",
    "    \"no_cine_area_geral_negocios,_administracao_e_direito\",\n",
    "    \"no_cine_area_geral_saude_e_bem-estar\",\n",
    "    \"no_cine_area_geral_servicos\"\n",
    "]\n",
    "n_clusters_range = range(2, 10)  # Por exemplo, de 2 a 10 clusters\n",
    "max_features = 50  # Número máximo de features (incluindo as obrigatórias)\n",
    "\n",
    "# Features restantes para testar, excluindo as obrigatórias\n",
    "candidate_features = [f for f in df_scaled.columns if f not in mandatory_features]\n",
    "\n",
    "# Dicionário para armazenar o melhor score e o conjunto de features para cada k\n",
    "best_results = {}\n",
    "\n",
    "# Loop externo para cada número de clusters\n",
    "for n_clusters in n_clusters_range:\n",
    "    best_score = -1\n",
    "    best_features = mandatory_features[:]  # Inicializa com as features obrigatórias\n",
    "\n",
    "    # Adiciona features uma por uma e testa o índice de silhueta\n",
    "    for feature in candidate_features:\n",
    "        # Limita o número de features no conjunto atual\n",
    "        if len(best_features) >= max_features:\n",
    "            break\n",
    "\n",
    "        # Tenta adicionar uma nova feature ao conjunto\n",
    "        current_features = best_features + [feature]\n",
    "\n",
    "        # Executa o K-Means e calcula o índice de silhueta\n",
    "        kmeans = KMeans(n_clusters=n_clusters, random_state=42)\n",
    "        clusters = kmeans.fit_predict(df_scaled[current_features])\n",
    "        score = silhouette_score(df_scaled[current_features], clusters)\n",
    "\n",
    "        # Atualiza o melhor conjunto de features para o número atual de clusters\n",
    "        if score > best_score:\n",
    "            best_score = score\n",
    "            best_features = current_features\n",
    "\n",
    "    # Armazena o melhor score e conjunto de features para o número atual de clusters\n",
    "    best_results[n_clusters] = {\n",
    "        \"best_score\": best_score,\n",
    "        \"best_features\": best_features\n",
    "    }\n",
    "\n",
    "# Resultados finais\n",
    "for k, result in best_results.items():\n",
    "    print(f\"Para k={k}:\")\n",
    "    print(\"Melhor conjunto de features:\", result[\"best_features\"])\n",
    "    print(\"Melhor índice de silhueta:\", result[\"best_score\"])\n",
    "    print(\"---------\")\n"
   ]
  }
 ],
 "metadata": {
  "kernelspec": {
   "display_name": "Python 3 (ipykernel)",
   "language": "python",
   "name": "python3"
  },
  "language_info": {
   "codemirror_mode": {
    "name": "ipython",
    "version": 3
   },
   "file_extension": ".py",
   "mimetype": "text/x-python",
   "name": "python",
   "nbconvert_exporter": "python",
   "pygments_lexer": "ipython3",
   "version": "3.12.3"
  }
 },
 "nbformat": 4,
 "nbformat_minor": 5
}
