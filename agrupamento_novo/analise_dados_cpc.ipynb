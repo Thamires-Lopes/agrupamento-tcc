{
 "cells": [
  {
   "cell_type": "code",
   "execution_count": 1,
   "id": "3cea4515-b886-46b3-91cd-ee986e8d91df",
   "metadata": {},
   "outputs": [],
   "source": [
    "import pandas as pd\n",
    "from unidecode import unidecode"
   ]
  },
  {
   "cell_type": "code",
   "execution_count": 2,
   "id": "607dfdb2-8d70-4898-9c2a-476cf41081f4",
   "metadata": {},
   "outputs": [],
   "source": [
    "cpc_2021 = pd.read_csv(\"dados_processados/cpc_2021.csv\")"
   ]
  },
  {
   "cell_type": "code",
   "execution_count": 3,
   "id": "a5237f4f-ac5c-43fa-a4e6-e0ca8cec28c8",
   "metadata": {},
   "outputs": [],
   "source": [
    "cpc_2022 = pd.read_csv(\"dados_processados/cpc_2022.csv\")"
   ]
  },
  {
   "cell_type": "code",
   "execution_count": 4,
   "id": "b44f8a1e-282f-4a16-a754-fa4e739158c8",
   "metadata": {},
   "outputs": [],
   "source": [
    "cpc_2019 = pd.read_csv(\"dados_processados/cpc_2019.csv\")"
   ]
  },
  {
   "cell_type": "code",
   "execution_count": 5,
   "id": "b72bc2ab-2ed7-4ecb-bfda-ad76743d92b7",
   "metadata": {},
   "outputs": [
    {
     "data": {
      "text/html": [
       "<div>\n",
       "<style scoped>\n",
       "    .dataframe tbody tr th:only-of-type {\n",
       "        vertical-align: middle;\n",
       "    }\n",
       "\n",
       "    .dataframe tbody tr th {\n",
       "        vertical-align: top;\n",
       "    }\n",
       "\n",
       "    .dataframe thead th {\n",
       "        text-align: right;\n",
       "    }\n",
       "</style>\n",
       "<table border=\"1\" class=\"dataframe\">\n",
       "  <thead>\n",
       "    <tr style=\"text-align: right;\">\n",
       "      <th></th>\n",
       "      <th>co_curso</th>\n",
       "      <th>cpc_faixa</th>\n",
       "    </tr>\n",
       "  </thead>\n",
       "  <tbody>\n",
       "    <tr>\n",
       "      <th>0</th>\n",
       "      <td>6</td>\n",
       "      <td>4</td>\n",
       "    </tr>\n",
       "    <tr>\n",
       "      <th>1</th>\n",
       "      <td>19</td>\n",
       "      <td>4</td>\n",
       "    </tr>\n",
       "    <tr>\n",
       "      <th>2</th>\n",
       "      <td>26</td>\n",
       "      <td>3</td>\n",
       "    </tr>\n",
       "    <tr>\n",
       "      <th>3</th>\n",
       "      <td>27</td>\n",
       "      <td>3</td>\n",
       "    </tr>\n",
       "    <tr>\n",
       "      <th>4</th>\n",
       "      <td>29</td>\n",
       "      <td>4</td>\n",
       "    </tr>\n",
       "    <tr>\n",
       "      <th>...</th>\n",
       "      <td>...</td>\n",
       "      <td>...</td>\n",
       "    </tr>\n",
       "    <tr>\n",
       "      <th>3333</th>\n",
       "      <td>34</td>\n",
       "      <td>3</td>\n",
       "    </tr>\n",
       "    <tr>\n",
       "      <th>3334</th>\n",
       "      <td>22837</td>\n",
       "      <td>0</td>\n",
       "    </tr>\n",
       "    <tr>\n",
       "      <th>3335</th>\n",
       "      <td>101054</td>\n",
       "      <td>4</td>\n",
       "    </tr>\n",
       "    <tr>\n",
       "      <th>3336</th>\n",
       "      <td>1128077</td>\n",
       "      <td>3</td>\n",
       "    </tr>\n",
       "    <tr>\n",
       "      <th>3337</th>\n",
       "      <td>1188880</td>\n",
       "      <td>4</td>\n",
       "    </tr>\n",
       "  </tbody>\n",
       "</table>\n",
       "<p>3338 rows × 2 columns</p>\n",
       "</div>"
      ],
      "text/plain": [
       "      co_curso  cpc_faixa\n",
       "0            6          4\n",
       "1           19          4\n",
       "2           26          3\n",
       "3           27          3\n",
       "4           29          4\n",
       "...        ...        ...\n",
       "3333        34          3\n",
       "3334     22837          0\n",
       "3335    101054          4\n",
       "3336   1128077          3\n",
       "3337   1188880          4\n",
       "\n",
       "[3338 rows x 2 columns]"
      ]
     },
     "execution_count": 5,
     "metadata": {},
     "output_type": "execute_result"
    }
   ],
   "source": [
    "cpc_2021"
   ]
  },
  {
   "cell_type": "code",
   "execution_count": 6,
   "id": "8ceddcfb-e489-41ab-b6a0-20ba18176bb3",
   "metadata": {},
   "outputs": [
    {
     "data": {
      "text/html": [
       "<div>\n",
       "<style scoped>\n",
       "    .dataframe tbody tr th:only-of-type {\n",
       "        vertical-align: middle;\n",
       "    }\n",
       "\n",
       "    .dataframe tbody tr th {\n",
       "        vertical-align: top;\n",
       "    }\n",
       "\n",
       "    .dataframe thead th {\n",
       "        text-align: right;\n",
       "    }\n",
       "</style>\n",
       "<table border=\"1\" class=\"dataframe\">\n",
       "  <thead>\n",
       "    <tr style=\"text-align: right;\">\n",
       "      <th></th>\n",
       "      <th>co_curso</th>\n",
       "      <th>cpc_faixa</th>\n",
       "    </tr>\n",
       "  </thead>\n",
       "  <tbody>\n",
       "    <tr>\n",
       "      <th>0</th>\n",
       "      <td>13</td>\n",
       "      <td>4</td>\n",
       "    </tr>\n",
       "    <tr>\n",
       "      <th>1</th>\n",
       "      <td>8</td>\n",
       "      <td>4</td>\n",
       "    </tr>\n",
       "    <tr>\n",
       "      <th>2</th>\n",
       "      <td>2</td>\n",
       "      <td>3</td>\n",
       "    </tr>\n",
       "    <tr>\n",
       "      <th>3</th>\n",
       "      <td>1</td>\n",
       "      <td>4</td>\n",
       "    </tr>\n",
       "    <tr>\n",
       "      <th>4</th>\n",
       "      <td>123427</td>\n",
       "      <td>4</td>\n",
       "    </tr>\n",
       "    <tr>\n",
       "      <th>...</th>\n",
       "      <td>...</td>\n",
       "      <td>...</td>\n",
       "    </tr>\n",
       "    <tr>\n",
       "      <th>1219</th>\n",
       "      <td>107894</td>\n",
       "      <td>4</td>\n",
       "    </tr>\n",
       "    <tr>\n",
       "      <th>1220</th>\n",
       "      <td>1127343</td>\n",
       "      <td>4</td>\n",
       "    </tr>\n",
       "    <tr>\n",
       "      <th>1221</th>\n",
       "      <td>21</td>\n",
       "      <td>3</td>\n",
       "    </tr>\n",
       "    <tr>\n",
       "      <th>1222</th>\n",
       "      <td>123052</td>\n",
       "      <td>4</td>\n",
       "    </tr>\n",
       "    <tr>\n",
       "      <th>1223</th>\n",
       "      <td>84854</td>\n",
       "      <td>4</td>\n",
       "    </tr>\n",
       "  </tbody>\n",
       "</table>\n",
       "<p>1224 rows × 2 columns</p>\n",
       "</div>"
      ],
      "text/plain": [
       "      co_curso  cpc_faixa\n",
       "0           13          4\n",
       "1            8          4\n",
       "2            2          3\n",
       "3            1          4\n",
       "4       123427          4\n",
       "...        ...        ...\n",
       "1219    107894          4\n",
       "1220   1127343          4\n",
       "1221        21          3\n",
       "1222    123052          4\n",
       "1223     84854          4\n",
       "\n",
       "[1224 rows x 2 columns]"
      ]
     },
     "execution_count": 6,
     "metadata": {},
     "output_type": "execute_result"
    }
   ],
   "source": [
    "cpc_2022"
   ]
  },
  {
   "cell_type": "code",
   "execution_count": 7,
   "id": "2ba41eb6-9e00-49ea-92f8-c072a6d72a3c",
   "metadata": {},
   "outputs": [
    {
     "name": "stdout",
     "output_type": "stream",
     "text": [
      "[]\n"
     ]
    }
   ],
   "source": [
    "# Encontrar os valores comuns na coluna 'co_curso'\n",
    "valores_comuns = cpc_2021['co_curso'].isin(cpc_2022['co_curso'])\n",
    "\n",
    "# Filtrar os dataframes para listar os valores comuns\n",
    "df_valores_comuns = cpc_2021[valores_comuns]\n",
    "\n",
    "# Se você quiser listar apenas os valores de 'co_curso' que são comuns\n",
    "lista_valores_comuns = df_valores_comuns['co_curso'].unique()\n",
    "\n",
    "# Exibir a lista de valores comuns\n",
    "print(lista_valores_comuns)"
   ]
  },
  {
   "cell_type": "code",
   "execution_count": 8,
   "id": "7b2590fa-77a7-467d-8d82-192c3c304e1f",
   "metadata": {},
   "outputs": [
    {
     "data": {
      "text/html": [
       "<div>\n",
       "<style scoped>\n",
       "    .dataframe tbody tr th:only-of-type {\n",
       "        vertical-align: middle;\n",
       "    }\n",
       "\n",
       "    .dataframe tbody tr th {\n",
       "        vertical-align: top;\n",
       "    }\n",
       "\n",
       "    .dataframe thead th {\n",
       "        text-align: right;\n",
       "    }\n",
       "</style>\n",
       "<table border=\"1\" class=\"dataframe\">\n",
       "  <thead>\n",
       "    <tr style=\"text-align: right;\">\n",
       "      <th></th>\n",
       "      <th>co_curso</th>\n",
       "      <th>cpc_faixa</th>\n",
       "    </tr>\n",
       "  </thead>\n",
       "  <tbody>\n",
       "  </tbody>\n",
       "</table>\n",
       "</div>"
      ],
      "text/plain": [
       "Empty DataFrame\n",
       "Columns: [co_curso, cpc_faixa]\n",
       "Index: []"
      ]
     },
     "execution_count": 8,
     "metadata": {},
     "output_type": "execute_result"
    }
   ],
   "source": [
    "df_valores_comuns"
   ]
  },
  {
   "cell_type": "code",
   "execution_count": 9,
   "id": "ed174f23-6488-4d13-b499-7d6b1839cc1d",
   "metadata": {},
   "outputs": [
    {
     "name": "stdout",
     "output_type": "stream",
     "text": [
      "[1168551 1192413   99423  104364  104366 1083188  300635  300687   92157\n",
      "  301438  123128   91897   91899  122951  420416 1212124 1257438  303410\n",
      " 1215159  303662 1146686   92601   95631  150186  311300 1268388   11542\n",
      " 1376137   12327  312562 1112869  312952  313092 1270439  104158  122288\n",
      " 1192307 5000731   88652  103346  100256 1191555 1113009 1113011   97099\n",
      "   44892  102665   94115  114417 1292614  114444   62970   64898  102304\n",
      " 1120717  102820 1118130 1081931 1172159   61592 1214165  416944 1118111\n",
      " 1350324  302525]\n"
     ]
    }
   ],
   "source": [
    "valores_comuns_2019_2021 = cpc_2019['co_curso'].isin(cpc_2021['co_curso'])\n",
    "\n",
    "# Filtrar os dataframes para listar os valores comuns\n",
    "df_valores_comuns_2019_2021 = cpc_2019[valores_comuns_2019_2021]\n",
    "\n",
    "# Se você quiser listar apenas os valores de 'co_curso' que são comuns\n",
    "lista_valores_comuns_2019_2021 = df_valores_comuns_2019_2021['co_curso'].unique()\n",
    "\n",
    "# Exibir a lista de valores comuns\n",
    "print(lista_valores_comuns_2019_2021)\n"
   ]
  },
  {
   "cell_type": "code",
   "execution_count": 10,
   "id": "535e9047-5e2a-4420-9cb9-31ac3f033317",
   "metadata": {},
   "outputs": [
    {
     "data": {
      "text/plain": [
       "array([1168551, 1192413,   99423,  104364,  104366, 1083188,  300635,\n",
       "        300687,   92157,  301438,  123128,   91897,   91899,  122951,\n",
       "        420416, 1212124, 1257438,  303410, 1215159,  303662, 1146686,\n",
       "         92601,   95631,  150186,  311300, 1268388,   11542, 1376137,\n",
       "         12327,  312562, 1112869,  312952,  313092, 1270439,  104158,\n",
       "        122288, 1192307, 5000731,   88652,  103346,  100256, 1191555,\n",
       "       1113009, 1113011,   97099,   44892,  102665,   94115,  114417,\n",
       "       1292614,  114444,   62970,   64898,  102304, 1120717,  102820,\n",
       "       1118130, 1081931, 1172159,   61592, 1214165,  416944, 1118111,\n",
       "       1350324,  302525], dtype=int64)"
      ]
     },
     "execution_count": 10,
     "metadata": {},
     "output_type": "execute_result"
    }
   ],
   "source": [
    "lista_valores_comuns_2019_2021"
   ]
  },
  {
   "cell_type": "code",
   "execution_count": 11,
   "id": "e78b8c64-d95a-4f65-8965-d146519464a7",
   "metadata": {},
   "outputs": [
    {
     "data": {
      "text/plain": [
       "(65,)"
      ]
     },
     "execution_count": 11,
     "metadata": {},
     "output_type": "execute_result"
    }
   ],
   "source": [
    "lista_valores_comuns_2019_2021.shape"
   ]
  },
  {
   "cell_type": "code",
   "execution_count": 12,
   "id": "51fde6dd-e21b-4da1-8816-38c79afb9c67",
   "metadata": {},
   "outputs": [
    {
     "name": "stdout",
     "output_type": "stream",
     "text": [
      "[]\n"
     ]
    },
    {
     "name": "stderr",
     "output_type": "stream",
     "text": [
      "C:\\Users\\thami\\AppData\\Local\\Temp\\ipykernel_2648\\1712828138.py:4: UserWarning: Boolean Series key will be reindexed to match DataFrame index.\n",
      "  df_valores_comuns_2019_2022 = cpc_2019[valores_comuns]\n"
     ]
    }
   ],
   "source": [
    "valores_comuns_2019_2022 = cpc_2019['co_curso'].isin(cpc_2022['co_curso'])\n",
    "\n",
    "# Filtrar os dataframes para listar os valores comuns\n",
    "df_valores_comuns_2019_2022 = cpc_2019[valores_comuns]\n",
    "\n",
    "# Se você quiser listar apenas os valores de 'co_curso' que são comuns\n",
    "lista_valores_comuns_2019_2022 = df_valores_comuns_2019_2022['co_curso'].unique()\n",
    "\n",
    "# Exibir a lista de valores comuns\n",
    "print(lista_valores_comuns_2019_2022)"
   ]
  },
  {
   "cell_type": "code",
   "execution_count": null,
   "id": "58e69747-0fc4-45bf-837c-78d8097e7d00",
   "metadata": {},
   "outputs": [],
   "source": []
  }
 ],
 "metadata": {
  "kernelspec": {
   "display_name": "Python 3 (ipykernel)",
   "language": "python",
   "name": "python3"
  },
  "language_info": {
   "codemirror_mode": {
    "name": "ipython",
    "version": 3
   },
   "file_extension": ".py",
   "mimetype": "text/x-python",
   "name": "python",
   "nbconvert_exporter": "python",
   "pygments_lexer": "ipython3",
   "version": "3.12.3"
  }
 },
 "nbformat": 4,
 "nbformat_minor": 5
}
